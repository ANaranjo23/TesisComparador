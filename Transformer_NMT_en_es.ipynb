{
  "cells": [
    {
      "cell_type": "markdown",
      "metadata": {
        "id": "m9JJ7FBw84tG"
      },
      "source": [
        "# Attention is all you need: Discovering the Transformer model\n",
        "\n",
        "# Neural machine traslation using a Transformer model\n",
        "\n",
        "In this notebook we will describe and demystify the relevant artifacts in the paper \"Attention is all you need\" (Vaswani, Ashish & Shazeer, Noam & Parmar, Niki & Uszkoreit, Jakob & Jones, Llion & Gomez, Aidan & Kaiser, Lukasz & Polosukhin, Illia. (2017)). This paper was a more advanced step in the use of the attention mechanism being the main basis for a model called Transformer. The most famous current models that are emerging in NLP tasks consist of dozens of transformers or some of their variants, for example, GPT-3 or BERT.\n",
        "\n",
        "Attention is all you need: https://arxiv.org/pdf/1706.03762.pdf\n",
        "\n",
        "We will describe the components of this model, analyze their operation and build a simple model that we will apply to a small-scale NMT problem (Neural Machine Translation). To read more about the problem that we will address and to know how the basic attention mechanism works, I recommend you to read my previous  post [ \"A Guide on the Encoder-Decoder Model and the Attention Mechanism\"](https://medium.com/better-programming/a-guide-on-the-encoder-decoder-model-and-the-attention-mechanism-401c836e2cdb) and check the [ repository](https://github.com/edumunozsala/NMT-encoder-decoder-Attention)."
      ]
    },
    {
      "cell_type": "markdown",
      "metadata": {
        "id": "822Yvg8KVyR9"
      },
      "source": [
        "![Alt](images/transformer.jpg \"title Picture by Vinson Tan from Pixabay\")\n",
        "\n",
        "## Why we need Transformer?\n",
        "\n",
        "In sequence-to-sequence treatment problems such as the neural machine translation, the initial proposals were based on the use of RNNs in an encoder-decoder architecture. These architectures presented a great limitation when working with long sequences, their ability to retain information from the first elements was lost when new elements were incorporated into the sequence. In the encoder, the hidden state in every step is associated with a certain word in the input sentence, the more recent. Therefore, if the decoder only accesses the last hidden state of the decoder, it will lose relevant information about the first elements of the sequence. Then to deal with this limitation, a new concept were introduced **the attention mechanism**.\n",
        "\n",
        "Instead of paying attention to the last state of the encoder as is usually done with the RNNs, in each step of the decoder we look at all the states of the encoder, being able to access information about all the elements of the input sequence. This is what attention does, it extracts information from the whole sequence, a weighted sum of all the past encoder states. This allows the decoder to assign greater weight or importance to a certain element of the input for each element of the output. Learning in every step to focus in the right element of the input to predict the next output element.\n",
        "\n",
        "But this approach continues to have an important limitation, each sequence must be treated one at a time. Both the encoder and the decoder have to wait till the completion of t-1 steps to process at 't'th step. So when dealing with huge corpus **it is very time consuming and computationally inefficient**."
      ]
    },
    {
      "cell_type": "markdown",
      "metadata": {
        "id": "fN7pJARIt9uK"
      },
      "source": [
        "# Loading the libraries"
      ]
    },
    {
      "cell_type": "markdown",
      "metadata": {
        "id": "t5DbIHC-F6Hf"
      },
      "source": [
        "Load and install, if necessary, the python libraries we will use along this notebook. We force to import Tensorflow version 2, if it is available."
      ]
    },
    {
      "cell_type": "code",
      "execution_count": null,
      "metadata": {
        "id": "ZbcvtPlp3YWu"
      },
      "outputs": [],
      "source": [
        "import math\n",
        "import os\n",
        "import gc\n",
        "import time\n",
        "import re\n",
        "\n",
        "import pandas as pd\n",
        "import numpy as np\n",
        "import matplotlib.pyplot as plt\n",
        "%matplotlib inline \n",
        "\n",
        "from google.colab import drive"
      ]
    },
    {
      "cell_type": "code",
      "execution_count": null,
      "metadata": {
        "id": "P6o_cpZz3y_-",
        "colab": {
          "base_uri": "https://localhost:8080/"
        },
        "outputId": "9f13483b-794f-4a5b-dfb7-2812736ec5a8"
      },
      "outputs": [
        {
          "output_type": "stream",
          "name": "stdout",
          "text": [
            "2.11.0\n",
            "4.8.3\n"
          ]
        }
      ],
      "source": [
        "import tensorflow as tf\n",
        "print(tf.__version__)\n",
        "from tensorflow.python.keras.layers import Dense\n",
        "from tensorflow.keras import layers\n",
        "from tensorflow.keras import backend as K\n",
        "import tensorflow_datasets as tfds\n",
        "print(tfds.__version__)\n",
        "from keras.preprocessing.text import Tokenizer\n",
        "from keras.utils import pad_sequences"
      ]
    },
    {
      "cell_type": "markdown",
      "metadata": {
        "id": "bqyCyv2b5iif"
      },
      "source": [
        "Setting some parameters and hyperparameters for our model"
      ]
    },
    {
      "cell_type": "code",
      "execution_count": null,
      "metadata": {
        "id": "rTr3QS6_5tBO"
      },
      "outputs": [],
      "source": [
        "# Parameters for our model\n",
        "INPUT_COLUMN = 'input'\n",
        "TARGET_COLUMN = 'target'\n",
        "NUM_SAMPLES = 258910 #40000 1364\n",
        "MAX_VOCAB_SIZE = 2**14\n",
        "\n",
        "BATCH_SIZE = 110  # Batch size for training.\n",
        "EPOCHS = 1  # Number of epochs to train for.\n",
        "MAX_LENGTH = 15\n",
        "\n",
        "# Global parameters\n",
        "root_folder='/content/drive'\n",
        "data_folder_name='My Drive/Tesis/Traductor/datasets/eng_spa_translations'\n",
        "checkpoint_folder = \"My Drive/Tesis/Traductor/Transformer_NMT/Projects/Transformer_NMT/ckpt/\"\n",
        "train_filename='outputv13.txt'\n",
        "\n",
        "# Variable for data directory\n",
        "DATA_PATH = os.path.abspath(os.path.join(root_folder, data_folder_name))\n",
        "train_filenamepath = os.path.abspath(os.path.join(DATA_PATH, train_filename))\n",
        "checkpoint_path = os.path.abspath(os.path.join(root_folder, checkpoint_folder))\n",
        "\n",
        "# Both train and test set are in the root data directory\n",
        "train_path = DATA_PATH\n"
      ]
    },
    {
      "cell_type": "markdown",
      "metadata": {
        "id": "BQN8jwx48_yU"
      },
      "source": [
        "# The dataset and text processing\n",
        "\n",
        "For this exercise we will use pairs of simple sentences, the source in English and target in Spanish, from the Tatoeba project where people contribute adding translations every day. This is the [link](http://www.manythings.org/anki/) to some traslations in different languages. There you can download the Spanish - English spa_eng.zip file, it contains 124457 pairs of sentences.\n",
        "\n",
        "We use a list of **non breaking prefixes** to avoid the tokenizer to split or break words including that prefixes. Inm our example we do not want to remove some the dot for some well-konw words.You can find non breaking prefixes for many languages in the Kaggle website: \n",
        "\n",
        "https://www.kaggle.com/nltkdata/nonbreaking-prefixes/activity\n",
        "\n",
        "\n",
        "The text sentences are almost clean, they are simple plain text, so we only need to remove dots that are not a end of sentence symbol and duplicated white spaces. \n",
        "\n",
        "The following functions will apply the cleaning mentioned previously:\n"
      ]
    },
    {
      "cell_type": "code",
      "execution_count": null,
      "metadata": {
        "id": "xnomPENWc3gD"
      },
      "outputs": [],
      "source": [
        "def preprocess_text_nonbreaking(corpus, non_breaking_prefixes):\n",
        "  try:\n",
        "    # Initialize row_num variable\n",
        "    row_num = 0\n",
        "    # Initialize empty list to store preprocessed sentences\n",
        "    preprocessed_sentences = []\n",
        "    # Split corpus into sentences\n",
        "    for sentence in corpus.split('.'):\n",
        "      # Increment row_num variable\n",
        "      row_num += 1\n",
        "      # Eliminar caracteres de nueva línea\n",
        "      sentence_cleaned = sentence.replace('\\n', '')\n",
        "      # Agregue espacio entre la palabra y el signo de puntuación\n",
        "      sentence_cleaned = re.sub(r'(?<=[^\\s0-9])(?=[.,;?])', r' ', sentence_cleaned)\n",
        "     # Eliminar espacios dobles\n",
        "      sentence_cleaned = re.sub(r'\\s\\s', ' ', sentence_cleaned)\n",
        "      # Para evitar eliminar puntos de algunas palabras\n",
        "      for prefix in non_breaking_prefixes:\n",
        "        sentence_cleaned = sentence_cleaned.replace(prefix, prefix + '$$$')\n",
        "    # Elimina los puntos que no están al final de una oración\n",
        "      sentence_cleaned = re.sub(r'\\.(?=[0-9]|[a-z]|[A-Z])', '.$$$', sentence_cleaned)\n",
        "      # Elimine los puntos restantes y reemplace $$$ con un punto\n",
        "      sentence_cleaned = re.sub(r'\\.|\\$\\$\\$', ' . ', sentence_cleaned)\n",
        "      # Eliminar múltiples espacios\n",
        "      sentence_cleaned = re.sub(r'\\s\\s', ' ', sentence_cleaned)\n",
        "      # Eliminar espacios al principio y al final de la cadena\n",
        "      sentence_cleaned = sentence_cleaned.strip()\n",
        "      # Agregar oración preprocesada a la lista\n",
        "      preprocessed_sentences.append(sentence_cleaned)\n",
        "    # Une oraciones preprocesadas en una sola cadena\n",
        "    preprocessed_corpus = '. '.join(preprocessed_sentences)\n",
        "    return preprocessed_corpus\n",
        "  except Exception as e:\n",
        "    print(f\"Error processing row {row_num}: {e}\")\n",
        "    return None\n"
      ]
    },
    {
      "cell_type": "markdown",
      "metadata": {
        "id": "bPlOT-2mlw0r"
      },
      "source": [
        "## Loading the dataset"
      ]
    },
    {
      "cell_type": "markdown",
      "metadata": {
        "id": "dCD9jwXsLwS_"
      },
      "source": [
        "Mount our Google Drive unit to access the datafiles from the notebook"
      ]
    },
    {
      "cell_type": "code",
      "execution_count": null,
      "metadata": {
        "colab": {
          "base_uri": "https://localhost:8080/"
        },
        "id": "eQpbl1pXCR0p",
        "outputId": "a8aaabf6-8474-4bd3-cb91-c61deeb28c7b"
      },
      "outputs": [
        {
          "output_type": "stream",
          "name": "stdout",
          "text": [
            "Mounted at /content/drive\n"
          ]
        }
      ],
      "source": [
        "drive.mount(\"/content/drive\")"
      ]
    },
    {
      "cell_type": "markdown",
      "metadata": {
        "id": "7Bf2mfHHbqGK"
      },
      "source": [
        "Loading the list of non breaking prefixes for the english and the spanish sentences"
      ]
    },
    {
      "cell_type": "code",
      "execution_count": null,
      "metadata": {
        "id": "fjKW8DnObtvl"
      },
      "outputs": [],
      "source": [
        "with open(DATA_PATH+\"/nonbreaking_prefix.es\", \n",
        "          mode = \"r\", encoding = \"utf-8\") as f:\n",
        "    non_breaking_prefix_en = f.read()\n",
        "with open(DATA_PATH+\"/nonbreaking_prefix.en\", \n",
        "          mode = \"r\", encoding = \"utf-8\") as f:\n",
        "    non_breaking_prefix_es = f.read()\n",
        "\n",
        "non_breaking_prefix_es= non_breaking_prefix_es.split(\"\\n\")\n",
        "non_breaking_prefix_es = [' ' + pref + '.' for pref in non_breaking_prefix_es]\n",
        "non_breaking_prefix_en = non_breaking_prefix_en.split(\"\\n\")\n",
        "non_breaking_prefix_en = [' ' + pref + '.' for pref in non_breaking_prefix_en]"
      ]
    },
    {
      "cell_type": "markdown",
      "metadata": {
        "id": "gdgqJNZc63nk"
      },
      "source": [
        "Load the dataset into a pandas dataframe and apply the preprocess function to the input and target columns."
      ]
    },
    {
      "cell_type": "code",
      "execution_count": null,
      "metadata": {
        "colab": {
          "base_uri": "https://localhost:8080/"
        },
        "id": "0G8Wa9FBdy5Y",
        "outputId": "35be4164-e332-48a5-fc61-c42408a71831"
      },
      "outputs": [
        {
          "output_type": "stream",
          "name": "stdout",
          "text": [
            "Number of sentences:  258693\n",
            "['Ve. ', 'Vete. ', 'Vaya. ', 'Váyase. ', 'Hola. ', '¡Corre!', '¡Corran!', '¡Huye!', '¡Corra!', '¡Corred!', 'Corra. ', 'Corred. ', '¿Quién ?', '¡Órale!', '¡Inclínate!']\n",
            "['Go. ', 'Go. ', 'Go. ', 'Go. ', 'Hi. ', 'Run!', 'Run!', 'Run!', 'Run!', 'Run!', 'Run. ', 'Run. ', 'Who ?', 'Wow!', 'Duck!']\n"
          ]
        }
      ],
      "source": [
        " # Load the dataset: sentence in english, sentence in spanish \n",
        "df=pd.read_csv(train_filenamepath, sep=\"\\t\", header= None, names=[TARGET_COLUMN,INPUT_COLUMN], usecols=[0,1], \n",
        "                nrows=NUM_SAMPLES, encoding='utf-8')\n",
        "df = df.dropna()\n",
        " # Preprocess the input data\n",
        "# input_data=df[INPUT_COLUMN].apply(lambda x : preprocess_text_nonbreaking(x, non_breaking_prefix_en)).tolist()\n",
        "#  # Preprocess and include the end of sentence token to the target text\n",
        "# target_data=df[TARGET_COLUMN].apply(lambda x : preprocess_text_nonbreaking(x, non_breaking_prefix_es)).tolist()\n",
        "\n",
        "# Preprocess and include the end of sentence token to the target text\n",
        "target_data = []\n",
        "for text in df[TARGET_COLUMN]:\n",
        "    preprocessed_text = preprocess_text_nonbreaking(text, non_breaking_prefix_es)\n",
        "    if preprocessed_text is not None:\n",
        "        target_data.append(preprocessed_text)\n",
        "\n",
        "input_data = []\n",
        "for text in df[INPUT_COLUMN]:\n",
        "    preprocessed_text = preprocess_text_nonbreaking(text, non_breaking_prefix_en)\n",
        "    if preprocessed_text is not None:\n",
        "        input_data.append(preprocessed_text)\n",
        "\n",
        "print('Number of sentences: ',len(input_data))\n",
        "print(input_data[:15])\n",
        "print(target_data[:15])"
      ]
    },
    {
      "cell_type": "markdown",
      "metadata": {
        "id": "bPIhfiV3mVmu"
      },
      "source": []
    },
    {
      "cell_type": "code",
      "execution_count": null,
      "metadata": {
        "colab": {
          "base_uri": "https://localhost:8080/"
        },
        "id": "TMAFFdpIyNZd",
        "outputId": "68320387-40ee-424c-f71c-9d7d43ee7459"
      },
      "outputs": [
        {
          "output_type": "execute_result",
          "data": {
            "text/plain": [
              "0"
            ]
          },
          "metadata": {},
          "execution_count": 8
        }
      ],
      "source": [
        "#Delete the dataframe and release the memory (if it is possible)\n",
        "del df\n",
        "gc.collect()"
      ]
    },
    {
      "cell_type": "markdown",
      "metadata": {
        "id": "TEFw0D2vP_Dl"
      },
      "source": [
        "# Tokenize the text data\n",
        "\n",
        "Next, let's see how to prepare the data for our model. It is very simple and the steps are the following:\n",
        "\n",
        "- Create the vocabulary from the corpus using Subword tokenization, breaking words into “subword units” - strings of characters like ing or eau - that allow the downstream model to make intelligent decisions on words it doesn’t recognize.\n",
        "- Calculate the maximum length of the input and output sequences.\n",
        "- Tokenize the data, convert the raw text into a sequence of integers. Once we define the vocabulary, we use the encode method to get the token for every word in the corpus.\n",
        "- Remove sentences longer that the max length defined.\n",
        "- Padding the sentences: we need to pad zeros at the end of the sequences so that all sequences have the same length. Otherwise, we won't be able train the model on batches"
      ]
    },
    {
      "cell_type": "code",
      "execution_count": null,
      "metadata": {
        "id": "khsaxokjofHr"
      },
      "outputs": [],
      "source": [
        "def subword_tokenize(corpus, vocab_size, max_length):\n",
        "  # Create the vocabulary using Subword tokenization\n",
        "  tokenizer_corpus = tfds.deprecated.text.SubwordTextEncoder.build_from_corpus(\n",
        "    corpus, target_vocab_size=vocab_size)\n",
        "  # Get the final vocab size, adding the eos and sos tokens\n",
        "  num_words = tokenizer_corpus.vocab_size + 2\n",
        "  # Set eos and sos token\n",
        "  sos_token = [num_words-2]\n",
        "  eos_token = [num_words-1]\n",
        "  # Tokenize the corpus\n",
        "  sentences = [sos_token + tokenizer_corpus.encode(sentence) + eos_token\n",
        "          for sentence in corpus]\n",
        "  # Identify the index of the sentences longer than max length\n",
        "  idx_to_remove = [count for count, sent in enumerate(sentences)\n",
        "                 if len(sent) > max_length]\n",
        "  #Pad the sentences\n",
        "  sentences = tf.keras.preprocessing.sequence.pad_sequences(sentences,\n",
        "                                                       value=0,\n",
        "                                                       padding='post',\n",
        "                                                       maxlen=max_length)\n",
        "  \n",
        "  return sentences, tokenizer_corpus, num_words, sos_token, eos_token, idx_to_remove"
      ]
    },
    {
      "cell_type": "code",
      "execution_count": null,
      "metadata": {
        "id": "onrwROJrquij"
      },
      "outputs": [],
      "source": [
        "# Tokenize and pad the input sequences\n",
        "encoder_inputs, tokenizer_inputs, num_words_inputs, sos_token_input, eos_token_input, del_idx_inputs= subword_tokenize(input_data, \n",
        "                                                                                                        MAX_VOCAB_SIZE, MAX_LENGTH)\n",
        "# Tokenize and pad the outputs sequences\n",
        "decoder_outputs, tokenizer_outputs, num_words_output, sos_token_output, eos_token_output, del_idx_outputs = subword_tokenize(target_data, \n",
        "                                                                                                        MAX_VOCAB_SIZE, MAX_LENGTH)"
      ]
    },
    {
      "cell_type": "code",
      "execution_count": null,
      "metadata": {
        "colab": {
          "base_uri": "https://localhost:8080/"
        },
        "id": "gYtibBaqsAxA",
        "outputId": "1e8f20eb-5580-47da-a78c-58c4e2b0522e"
      },
      "outputs": [
        {
          "output_type": "stream",
          "name": "stdout",
          "text": [
            "[[16481  4322     2 16482     0     0     0     0     0     0     0     0\n",
            "      0     0     0]\n",
            " [16481  4322   260     2 16482     0     0     0     0     0     0     0\n",
            "      0     0     0]\n",
            " [16481 13398     2 16482     0     0     0     0     0     0     0     0\n",
            "      0     0     0]\n",
            " [16481 16033  1364   443     2 16482     0     0     0     0     0     0\n",
            "      0     0     0]\n",
            " [16481  3282     2 16482     0     0     0     0     0     0     0     0\n",
            "      0     0     0]] [16481] [16482]\n",
            "[[16612  2537     1 16613     0     0     0     0     0     0     0     0\n",
            "      0     0     0]\n",
            " [16612  2537     1 16613     0     0     0     0     0     0     0     0\n",
            "      0     0     0]\n",
            " [16612  2537     1 16613     0     0     0     0     0     0     0     0\n",
            "      0     0     0]\n",
            " [16612  2537     1 16613     0     0     0     0     0     0     0     0\n",
            "      0     0     0]\n",
            " [16612  1726     1 16613     0     0     0     0     0     0     0     0\n",
            "      0     0     0]] [16612] [16613]\n"
          ]
        }
      ],
      "source": [
        "# Check the tokenize function\n",
        "print(encoder_inputs[:5], sos_token_input, eos_token_input)\n",
        "print(decoder_outputs[:5], sos_token_output, eos_token_output)"
      ]
    },
    {
      "cell_type": "code",
      "execution_count": null,
      "metadata": {
        "colab": {
          "base_uri": "https://localhost:8080/"
        },
        "id": "VF4l2stYEu2l",
        "outputId": "b3fc93d9-79f8-40e8-9f75-1ad220bedc5e"
      },
      "outputs": [
        {
          "output_type": "stream",
          "name": "stdout",
          "text": [
            "Size of Input Vocabulary:  16483\n",
            "Size of Output Vocabulary:  16614\n"
          ]
        }
      ],
      "source": [
        "print('Size of Input Vocabulary: ', num_words_inputs)\n",
        "print('Size of Output Vocabulary: ', num_words_output)"
      ]
    },
    {
      "cell_type": "markdown",
      "metadata": {
        "id": "Ypm8h5aZQTZ1"
      },
      "source": [
        "# Create the batch data generator"
      ]
    },
    {
      "cell_type": "markdown",
      "metadata": {
        "id": "9FP0WPsdM8hl"
      },
      "source": [
        "- Create a batch data generator: we want to train the model on batches, group of sentences, so we need to create a Dataset using the tf.data library and the function batch_on_slices on the input and output sequences."
      ]
    },
    {
      "cell_type": "code",
      "execution_count": null,
      "metadata": {
        "id": "wFxMp3TOIYff"
      },
      "outputs": [],
      "source": [
        "# # Define a dataset \n",
        "# dataset = tf.data.Dataset.from_tensor_slices(\n",
        "#     (encoder_inputs, decoder_outputs))\n",
        "# dataset = dataset.shuffle(len(input_data), reshuffle_each_iteration=True).batch(\n",
        "#     BATCH_SIZE, drop_remainder=True)\n",
        "\n",
        "# dataset = dataset.prefetch(tf.data.experimental.AUTOTUNE)\n",
        "\n",
        "# Pad encoder_inputs y decoder_outputs con ceros hasta la longitud máxima\n",
        "encoder_inputs = tf.keras.preprocessing.sequence.pad_sequences(encoder_inputs, maxlen=MAX_LENGTH, padding='post', truncating='post')\n",
        "decoder_outputs = tf.keras.preprocessing.sequence.pad_sequences(decoder_outputs, maxlen=MAX_LENGTH, padding='post', truncating='post')\n",
        "\n",
        "# Define un conjunto de datos a partir de los arrays numpy\n",
        "dataset = tf.data.Dataset.from_tensor_slices((encoder_inputs, decoder_outputs))\n",
        "\n",
        "# Mezcla los datos y agrupa en lotes del tamaño BATCH_SIZE\n",
        "dataset = dataset.shuffle(len(input_data), reshuffle_each_iteration=True).batch(BATCH_SIZE, drop_remainder=True)\n",
        "\n",
        "# Prefetch para acelerar el procesamiento\n",
        "dataset = dataset.prefetch(tf.data.experimental.AUTOTUNE)"
      ]
    },
    {
      "cell_type": "markdown",
      "metadata": {
        "id": "ycT0YqydRcUd"
      },
      "source": [
        "# Building a Transformer"
      ]
    },
    {
      "cell_type": "markdown",
      "metadata": {
        "id": "Y-iKViHeWz20"
      },
      "source": [
        "## What is Transformer?\n",
        "*\"In this work we propose the Transformer, a model architecture eschewing recurrence and instead relying entirely on an attention mechanism to draw global dependencies between input and output. The Transformer allows for significantly more parallelization … the Transformer is the first transduction model relying entirely on self-attention to compute representations of its input and output without using sequence-aligned RNNs or convolution.\"*\n",
        "\n",
        "\"Attention is all you need\" paper\n",
        "\n",
        "The Transformer model extract  features for each word using a self-attention mechanism to figure out how important all the other words in the sentence are w.r.t. to the aforementioned word. And no recurrent units are used to obtain this features, they are just weighted sum and activations, so they can be very parallelizable and efficient.\n",
        "\n",
        "But We will dive deeper to understand what all this means."
      ]
    },
    {
      "cell_type": "markdown",
      "metadata": {
        "id": "lcw8YIQqRhOJ"
      },
      "source": [
        "# Self-attention: the fundamental operation\n",
        "\n",
        "*\"Self-attention is a sequence-to-sequence operation: a sequence of vectors goes in, and a sequence of vectors comes out. Let's call the input vectors 𝐱1,𝐱2,…𝐱t and the corresponding output vectors 𝐲1,𝐲2,…,𝐲t. The vectors all have dimension k. To produce output vector 𝐲i, the self attention operation simply takes a weighted average over all the input vectors, the simplest option is the dot product.\"*\n",
        "\n",
        "**Transformers from scratch by Peter Bloem**\n",
        "\n",
        "In the self-attention mechanism of our model we need to introduce three elements: Queries, Values and Keys\n",
        "\n"
      ]
    },
    {
      "cell_type": "markdown",
      "metadata": {
        "id": "UBlUGBq9eFKx"
      },
      "source": [
        "## Queries, Keys and Values\n",
        "Every input vector is used in three different ways in the self-attention mechanism: the Query, the Key and the Value. In every role, it is compared to the others vectors to get its own output yi (Query), to get the j-th output yj (Key) and to compute each output vector once the weights have been established (Value).\n",
        "\n",
        "To obtain this roles, we need three weight matrices of dimensions k x k and compute three linear transformation for each xi:\n",
        "\n",
        "![Alt](images/query_key_value.png \"title \"Transformers from scratch\" by Peter Bloem\")\n",
        "\n",
        "These three matrices are usually known as K, Q and V, three learnable weight layers that are applied to the same encoded input. Consequently, as each of these three matrices come from the same input, we can apply the attention mechanism of the input vector with itself, a \"self-attention\".\n"
      ]
    },
    {
      "cell_type": "markdown",
      "metadata": {
        "id": "3sffhwwvX-wj"
      },
      "source": [
        "## Scale dot-product Attention\n",
        "\n",
        "*The input consists of queries and keys of dimension dk, and values of dimension dv. We compute the dot products of the query with all keys, divide each by the square root of dk, and apply a softmax function to obtain the weights on the values.*\n",
        "\n",
        "\"Attention is all you need\" paper\n",
        "\n",
        "Then we use the Q, K and V matrices to calculate the attention scores. **The scores measure how much focus to place on other places or words of the input sequence w.r.t a word at a certain position**. That is, the dot product of the query vector with the key vector of the respective word we're scoring. So, for position 1 we calculate the dot product (.) of q1 and k1, then q1 . k2, q1 . k3,… \n",
        "\n",
        "Next we apply the \"scaled\" factor to have more stable gradients. The softmax function can not work properly with large values, resulting in vanishing the gradient and slow down the learning. After \"softmaxing\" we multiply by the Value matrix to keep the values of the words we want to focus on and minimizing or removing the values for the irrelevant words (its value in V matrix should be very small).\n",
        "\n",
        "The formula for these operations is:\n",
        "\n",
        "$Attention(Q, K, V ) = \\text{softmax}\\left(\\dfrac{QK^T}{\\sqrt{d_k}}\\right)V $\n"
      ]
    },
    {
      "cell_type": "code",
      "execution_count": null,
      "metadata": {
        "id": "2rEoCNJURbrT"
      },
      "outputs": [],
      "source": [
        "def scaled_dot_product_attention(queries, keys, values, mask):\n",
        "    # Calculate the dot product, QK_transpose\n",
        "    product = tf.matmul(queries, keys, transpose_b=True)\n",
        "    # Get the scale factor\n",
        "    keys_dim = tf.cast(tf.shape(keys)[-1], tf.float32)\n",
        "    # Apply the scale factor to the dot product\n",
        "    scaled_product = product / tf.math.sqrt(keys_dim)\n",
        "    # Apply masking when it is requiered\n",
        "    if mask is not None:\n",
        "        scaled_product += (mask * -1e9)\n",
        "    # dot product with Values\n",
        "    attention = tf.matmul(tf.nn.softmax(scaled_product, axis=-1), values)\n",
        "    \n",
        "    return attention"
      ]
    },
    {
      "cell_type": "markdown",
      "metadata": {
        "id": "-MjtvXrfYEx7"
      },
      "source": [
        "## Multi-Head Attention\n",
        "\n",
        "In the previous description the attention scores are focused on the whole sentence at a time, this would produce the same results even if two sentences contain the same words in a different order. Instead, we would like to attend to different segments of the words. We can give the self attention greater power of discrimination, **by combining several self attention heads**, dividing the words vectors into a fixed number (h, number of heads) of chunks, and then self-attention is applied on the corresponding chunks, using Q, K and V sub-matrices. \n",
        "\n",
        "This produce h different output matrices of scores.\n",
        "\n",
        "![Alt](images/dor_product_multihead.PNG \"title From \"Attention is all you need\" paper by Vaswani, et al., 2017\")\n",
        "\n",
        "But the next layer (the Feed-Forward layer) is expecting just one matrix, a vector for each word, so after calculating the dot product of every head, we concat the output matrices and multiply them by an additional weights matrix $W_O$. This final matrix captures information from all the attention heads.\n",
        "\n",
        "$MultihHead(Q, K, V ) = \\text{Concat}(head_1,...,head_n)W^O$\n",
        "\n",
        "where $head_i=Attention(QW_i^Q,QW_i^K,QW_i^V)$ and $i$ is the head index.\n"
      ]
    },
    {
      "cell_type": "code",
      "execution_count": null,
      "metadata": {
        "id": "lvq4I9uTX5p7"
      },
      "outputs": [],
      "source": [
        "class MultiHeadAttention(layers.Layer):\n",
        "    \n",
        "    def __init__(self, n_heads):\n",
        "        super(MultiHeadAttention, self).__init__()\n",
        "        self.n_heads = n_heads\n",
        "        \n",
        "    def build(self, input_shape):\n",
        "        self.d_model = input_shape[-1]\n",
        "        assert self.d_model % self.n_heads == 0\n",
        "        # Calculate the dimension of every head or projection\n",
        "        self.d_head = self.d_model // self.n_heads\n",
        "        # Set the weight matrices for Q, K and V\n",
        "        self.query_lin = layers.Dense(units=self.d_model)\n",
        "        self.key_lin = layers.Dense(units=self.d_model)\n",
        "        self.value_lin = layers.Dense(units=self.d_model)\n",
        "        # Set the weight matrix for the output of the multi-head attention W0\n",
        "        self.final_lin = layers.Dense(units=self.d_model)\n",
        "        \n",
        "    def split_proj(self, inputs, batch_size): # inputs: (batch_size, seq_length, d_model)\n",
        "        # Set the dimension of the projections\n",
        "        shape = (batch_size,\n",
        "                 -1,\n",
        "                 self.n_heads,\n",
        "                 self.d_head)\n",
        "        # Split the input vectors\n",
        "        splited_inputs = tf.reshape(inputs, shape=shape) # (batch_size, seq_length, nb_proj, d_proj)\n",
        "        return tf.transpose(splited_inputs, perm=[0, 2, 1, 3]) # (batch_size, nb_proj, seq_length, d_proj)\n",
        "    \n",
        "    def call(self, queries, keys, values, mask):\n",
        "        # Get the batch size\n",
        "        batch_size = tf.shape(queries)[0]\n",
        "        # Set the Query, Key and Value matrices\n",
        "        queries = self.query_lin(queries)\n",
        "        keys = self.key_lin(keys)\n",
        "        values = self.value_lin(values)\n",
        "        # Split Q, K y V between the heads or projections\n",
        "        queries = self.split_proj(queries, batch_size)\n",
        "        keys = self.split_proj(keys, batch_size)\n",
        "        values = self.split_proj(values, batch_size)\n",
        "        # Apply the scaled dot product\n",
        "        attention = scaled_dot_product_attention(queries, keys, values, mask)\n",
        "        # Get the attention scores\n",
        "        attention = tf.transpose(attention, perm=[0, 2, 1, 3])\n",
        "        # Concat the h heads or projections\n",
        "        concat_attention = tf.reshape(attention,\n",
        "                                      shape=(batch_size, -1, self.d_model))\n",
        "        # Apply W0 to get the output of the multi-head attention\n",
        "        outputs = self.final_lin(concat_attention)\n",
        "        \n",
        "        return outputs"
      ]
    },
    {
      "cell_type": "markdown",
      "metadata": {
        "id": "-SBoH8G4XyR9"
      },
      "source": [
        "# Positional Encoding\n",
        "\n",
        "We mentioned briefly that the order of the words in the sentence is an issue to solve in this model, because the network and the self-attention mechanism is permutation invariant. If we shuffle up the words in the input sentence, we get the same solutions. We need to create a representation of the position of the word in the sentence and add it to the word embedding.\n",
        "\n",
        "*To this end, we add \"positional encodings\" to the input embeddings at the bottoms of the encoder and decoder stacks. The positional encodings have the same dimension as the embeddings, so that the two can be summed. There are many choices of positional encodings.*\n",
        "\n",
        "\"Attention is all you need\" paper\n",
        "\n",
        "So, we apply a function to map the position in the sentence to real valued vector. The network will learn how to use this information. Another approach would be to use a position embedding, similar to word embedding, coding every known position with a vector. It would requiere sentences of all accepted positions during training but positional encoding allow the model to extrapolate to sequence lengths longer than the ones encountered.\n",
        "\n",
        "In the paper a sinusoidal function is applied:"
      ]
    },
    {
      "cell_type": "markdown",
      "metadata": {
        "id": "7G9C3ucmJ86I"
      },
      "source": [
        "$PE_{(pos,2i)} =\\sin(pos/10000^{2i/dmodel})$\n",
        "\n",
        "$PE_{(pos,2i+1)} =\\cos(pos/10000^{2i/dmodel})$"
      ]
    },
    {
      "cell_type": "code",
      "execution_count": null,
      "metadata": {
        "id": "e2wc6sYlX0dr"
      },
      "outputs": [],
      "source": [
        "class PositionalEncoding(layers.Layer):\n",
        "\n",
        "    def __init__(self):\n",
        "        super(PositionalEncoding, self).__init__()\n",
        "    \n",
        "    def get_angles(self, pos, i, d_model): # pos: (seq_length, 1) i: (1, d_model)\n",
        "        angles = 1 / np.power(10000., (2*(i//2)) / np.float32(d_model))\n",
        "        return pos * angles # (seq_length, d_model)\n",
        "\n",
        "    def call(self, inputs):\n",
        "        # input shape batch_size, seq_length, d_model\n",
        "        seq_length = inputs.shape.as_list()[-2]\n",
        "        d_model = inputs.shape.as_list()[-1]\n",
        "        # Calculate the angles given the input\n",
        "        angles = self.get_angles(np.arange(seq_length)[:, np.newaxis],\n",
        "                                 np.arange(d_model)[np.newaxis, :],\n",
        "                                 d_model)\n",
        "        # Calculate the positional encodings\n",
        "        angles[:, 0::2] = np.sin(angles[:, 0::2])\n",
        "        angles[:, 1::2] = np.cos(angles[:, 1::2])\n",
        "        # Expand the encodings with a new dimension\n",
        "        pos_encoding = angles[np.newaxis, ...]\n",
        "        \n",
        "        return inputs + tf.cast(pos_encoding, tf.float32)"
      ]
    },
    {
      "cell_type": "markdown",
      "metadata": {
        "id": "yiyuHe1OeT5N"
      },
      "source": [
        "# The Encoder\n",
        "\n",
        "Now that all the main pieces of the model have been described we can introduce the encoder components. \n",
        "\n",
        "- Positional encoding: Add the position encoding to the input embedding (our input words are transformed to embedding vectors). *\"The same weight matrix is shared between the two embedding layers (encoder and decoder) and the pre-softmax linear transformation. In the embedding layers, we multiply those weights by square root of the model dimension\"* [1], ${\\sqrt{d_{model}}}$.\n",
        "\n",
        "- N = 6, identical layers, containing two sub-layers: a **multi-head self-attention mechanism**, and a **fully connected feed-forward network**. This FC layer is applied to each position separately and identically and consists of two linear transformations with a ReLU activation in between. But it is applied position-wise to the input, which means that the same neural network is applied to every single \"token\" vector belonging to the sentence sequence.\n",
        "\n",
        "$$FFN(x)= max(0,xW_1+b_1)W_2+b_2$$\n",
        "\n",
        "- There is a residual connection around each sub-layer (attention and FC network) followed by a layer normalization.\n",
        "\n",
        "*Normalization and residual connections are standard tricks used to help deep neural networks train faster and more accurately. The layer normalization is applied over the embedding dimension only.*\n",
        "\n",
        "**Peter Bloem, \"Transformers from scratch\"**\n",
        "\n",
        "The next figure will show the components detailed:\n",
        "\n",
        "![Alt](images/encoder.PNG \"title \"The Ilustrated Transformer\" by Jay Alammar\")\n",
        "\n",
        "Keep in mind that **only the vector from the last layer (6-th) is sent to the decoder**."
      ]
    },
    {
      "cell_type": "code",
      "execution_count": null,
      "metadata": {
        "id": "UV0ZMH7KT_KZ"
      },
      "outputs": [],
      "source": [
        "class EncoderLayer(layers.Layer):\n",
        "    \n",
        "    def __init__(self, FFN_units, n_heads, dropout_rate):\n",
        "        super(EncoderLayer, self).__init__()\n",
        "        # Hidden units of the feed forward component\n",
        "        self.FFN_units = FFN_units\n",
        "        # Set the number of projectios or heads\n",
        "        self.n_heads = n_heads\n",
        "        # Dropout rate\n",
        "        self.dropout_rate = dropout_rate\n",
        "    \n",
        "    def build(self, input_shape):\n",
        "        self.d_model = input_shape[-1]\n",
        "        # Build the multihead layer\n",
        "        self.multi_head_attention = MultiHeadAttention(self.n_heads)\n",
        "        self.dropout_1 = layers.Dropout(rate=self.dropout_rate)\n",
        "        # Layer Normalization\n",
        "        self.norm_1 = layers.LayerNormalization(epsilon=1e-6)\n",
        "        # Fully connected feed forward layer\n",
        "        self.ffn1_relu = layers.Dense(units=self.FFN_units, activation=\"relu\")\n",
        "        self.ffn2 = layers.Dense(units=self.d_model)\n",
        "        self.dropout_2 = layers.Dropout(rate=self.dropout_rate)\n",
        "        # Layer normalization\n",
        "        self.norm_2 = layers.LayerNormalization(epsilon=1e-6)\n",
        "        \n",
        "    def call(self, inputs, mask, training):\n",
        "        # Forward pass of the multi-head attention\n",
        "        attention = self.multi_head_attention(inputs,\n",
        "                                              inputs,\n",
        "                                              inputs,\n",
        "                                              mask)\n",
        "        attention = self.dropout_1(attention, training=training)\n",
        "        # Call to the residual connection and layer normalization\n",
        "        attention = self.norm_1(attention + inputs)\n",
        "        # Call to the FC layer\n",
        "        outputs = self.ffn1_relu(attention)\n",
        "        outputs = self.ffn2(outputs)\n",
        "        outputs = self.dropout_2(outputs, training=training)\n",
        "        # Call to residual connection and the layer normalization\n",
        "        outputs = self.norm_2(outputs + attention)\n",
        "        \n",
        "        return outputs"
      ]
    },
    {
      "cell_type": "code",
      "execution_count": null,
      "metadata": {
        "id": "P-P92KeZih60"
      },
      "outputs": [],
      "source": [
        "class Encoder(layers.Layer):\n",
        "    \n",
        "    def __init__(self,\n",
        "                 n_layers,\n",
        "                 FFN_units,\n",
        "                 n_heads,\n",
        "                 dropout_rate,\n",
        "                 vocab_size,\n",
        "                 d_model,\n",
        "                 name=\"encoder\"):\n",
        "        super(Encoder, self).__init__(name=name)\n",
        "        self.n_layers = n_layers\n",
        "        self.d_model = d_model\n",
        "        # The embedding layer\n",
        "        self.embedding = layers.Embedding(vocab_size, d_model)\n",
        "        # Positional encoding layer\n",
        "        self.pos_encoding = PositionalEncoding()\n",
        "        self.dropout = layers.Dropout(rate=dropout_rate)\n",
        "        # Stack of n layers of multi-head attention and FC\n",
        "        self.enc_layers = [EncoderLayer(FFN_units,\n",
        "                                        n_heads,\n",
        "                                        dropout_rate) \n",
        "                           for _ in range(n_layers)]\n",
        "    \n",
        "    def call(self, inputs, mask, training):\n",
        "        # Get the embedding vectors\n",
        "        outputs = self.embedding(inputs)\n",
        "        # Scale the embeddings by sqrt of d_model\n",
        "        outputs *= tf.math.sqrt(tf.cast(self.d_model, tf.float32))\n",
        "        # Positional encodding\n",
        "        outputs = self.pos_encoding(outputs)\n",
        "        outputs = self.dropout(outputs, training)\n",
        "        # Call the stacked layers\n",
        "        for i in range(self.n_layers):\n",
        "            outputs = self.enc_layers[i](outputs, mask, training)\n",
        "\n",
        "        return outputs"
      ]
    },
    {
      "cell_type": "markdown",
      "metadata": {
        "id": "7DthraBEwuvl"
      },
      "source": [
        "# The Decoder\n",
        "\n",
        "The decoder share some components with the encoder but they are used in a different way to take into account the encoder output.\n",
        "\n",
        "- Positional encoding: Similar that the one in the encoder\n",
        "- N=6 identical layers, containing 3 three sublayers. First, the Masked Multi-head attention or **masked causal attention** to prevent positions from attending to subsequent positions, hiding those features that belong to future states of the sequence. \"This masking, combined with fact that the output embeddings are offset by one position, ensures that the predictions for position i can depend only on the known outputs at positions less than i\" [1]. It is implemented setting to −∞ the values corresponding to the forbidden states in the softmax layer of the dot-product attention modules. The second component or **\"encoder-decoder attention\"** performs multi-head attention over the output of the decoder, the Key and Value vectors come from the output of the encoder but the queries come from the previous decoder layer. *This allows every position in the decoder to attend over all positions in the input sequence* [1]. And finally the fully-connected network.\n",
        "\n",
        "- The residual connection and layer normalization around each sub-layer, similar to the encoder.\n",
        "\n",
        "![Alt](images/decoder.PNG \"title \"The Ilustrated Transformer\" by Jay Alammar\")\n",
        "\n",
        "At the end of the N stacked decoders, the **linear layer**, a fully-connected network, transforms the stacked outputs to a much larger vector, the *logits*. The **softmax layer** then turns those scores (logits) into probabilities (all positive, all add up to 1.0). The cell with the highest probability is chosen, and the word associated with it is produced as the output for this time step.\n"
      ]
    },
    {
      "cell_type": "code",
      "execution_count": null,
      "metadata": {
        "id": "7ZWZyFBnwy8u"
      },
      "outputs": [],
      "source": [
        "class DecoderLayer(layers.Layer):\n",
        "    \n",
        "    def __init__(self, FFN_units, n_heads, dropout_rate):\n",
        "        super(DecoderLayer, self).__init__()\n",
        "        self.FFN_units = FFN_units\n",
        "        self.n_heads = n_heads\n",
        "        self.dropout_rate = dropout_rate\n",
        "    \n",
        "    def build(self, input_shape):\n",
        "        self.d_model = input_shape[-1]\n",
        "        \n",
        "        # Self multi head attention, causal attention\n",
        "        self.multi_head_causal_attention = MultiHeadAttention(self.n_heads)\n",
        "        self.dropout_1 = layers.Dropout(rate=self.dropout_rate)\n",
        "        self.norm_1 = layers.LayerNormalization(epsilon=1e-6)\n",
        "        \n",
        "        # Multi head attention, encoder-decoder attention \n",
        "        self.multi_head_enc_dec_attention = MultiHeadAttention(self.n_heads)\n",
        "        self.dropout_2 = layers.Dropout(rate=self.dropout_rate)\n",
        "        self.norm_2 = layers.LayerNormalization(epsilon=1e-6)\n",
        "        \n",
        "        # Feed foward\n",
        "        self.ffn1_relu = layers.Dense(units=self.FFN_units,\n",
        "                                    activation=\"relu\")\n",
        "        self.ffn2 = layers.Dense(units=self.d_model)\n",
        "        self.dropout_3 = layers.Dropout(rate=self.dropout_rate)\n",
        "        self.norm_3 = layers.LayerNormalization(epsilon=1e-6)\n",
        "        \n",
        "    def call(self, inputs, enc_outputs, mask_1, mask_2, training):\n",
        "        # Call the masked causal attention\n",
        "        attention = self.multi_head_causal_attention(inputs,\n",
        "                                                inputs,\n",
        "                                                inputs,\n",
        "                                                mask_1)\n",
        "        attention = self.dropout_1(attention, training)\n",
        "        # Residual connection and layer normalization\n",
        "        attention = self.norm_1(attention + inputs)\n",
        "        # Call the encoder-decoder attention\n",
        "        attention_2 = self.multi_head_enc_dec_attention(attention,\n",
        "                                                  enc_outputs,\n",
        "                                                  enc_outputs,\n",
        "                                                  mask_2)\n",
        "        attention_2 = self.dropout_2(attention_2, training)\n",
        "        # Residual connection and layer normalization\n",
        "        attention_2 = self.norm_2(attention_2 + attention)\n",
        "        # Call the Feed forward\n",
        "        outputs = self.ffn1_relu(attention_2)\n",
        "        outputs = self.ffn2(outputs)\n",
        "        outputs = self.dropout_3(outputs, training)\n",
        "        # Residual connection and layer normalization\n",
        "        outputs = self.norm_3(outputs + attention_2)\n",
        "        \n",
        "        return outputs"
      ]
    },
    {
      "cell_type": "code",
      "execution_count": null,
      "metadata": {
        "id": "kpzdiWHiwywF"
      },
      "outputs": [],
      "source": [
        "class Decoder(layers.Layer):\n",
        "    \n",
        "    def __init__(self,\n",
        "                 n_layers,\n",
        "                 FFN_units,\n",
        "                 n_heads,\n",
        "                 dropout_rate,\n",
        "                 vocab_size,\n",
        "                 d_model,\n",
        "                 name=\"decoder\"):\n",
        "        super(Decoder, self).__init__(name=name)\n",
        "        self.d_model = d_model\n",
        "        self.n_layers = n_layers\n",
        "        # Embedding layer\n",
        "        self.embedding = layers.Embedding(vocab_size, d_model)\n",
        "        # Positional encoding layer\n",
        "        self.pos_encoding = PositionalEncoding()\n",
        "        self.dropout = layers.Dropout(rate=dropout_rate)\n",
        "        # Stacked layers of multi-head attention and feed forward\n",
        "        self.dec_layers = [DecoderLayer(FFN_units,\n",
        "                                        n_heads,\n",
        "                                        dropout_rate) \n",
        "                           for _ in range(n_layers)]\n",
        "    \n",
        "    def call(self, inputs, enc_outputs, mask_1, mask_2, training):\n",
        "        # Get the embedding vectors\n",
        "        outputs = self.embedding(inputs)\n",
        "        # Scale by sqrt of d_model\n",
        "        outputs *= tf.math.sqrt(tf.cast(self.d_model, tf.float32))\n",
        "        # Positional encodding\n",
        "        outputs = self.pos_encoding(outputs)\n",
        "        outputs = self.dropout(outputs, training)\n",
        "        # Call the stacked layers\n",
        "        for i in range(self.n_layers):\n",
        "            outputs = self.dec_layers[i](outputs,\n",
        "                                         enc_outputs,\n",
        "                                         mask_1,\n",
        "                                         mask_2,\n",
        "                                         training)\n",
        "\n",
        "        return outputs"
      ]
    },
    {
      "cell_type": "markdown",
      "metadata": {
        "id": "x5sJYkjbz5DD"
      },
      "source": [
        "# Transformer\n",
        "\n",
        "Once we have defined our components and created the encoder, the decoder and the linear-softmax final layer, we join the pieces to form our model, the Transformer.\n",
        "\n",
        "![Alt](images/transformer_architecture.PNG \"title \"Attention is all you need\" paper\")"
      ]
    },
    {
      "cell_type": "code",
      "execution_count": null,
      "metadata": {
        "id": "GqvqNjJPwyh-"
      },
      "outputs": [],
      "source": [
        "class Transformer(tf.keras.Model):\n",
        "    \n",
        "    def __init__(self,\n",
        "                 vocab_size_enc,\n",
        "                 vocab_size_dec,\n",
        "                 d_model,\n",
        "                 n_layers,\n",
        "                 FFN_units,\n",
        "                 n_heads,\n",
        "                 dropout_rate,\n",
        "                 name=\"transformer\"):\n",
        "        super(Transformer, self).__init__(name=name)\n",
        "        # Build the encoder\n",
        "        self.encoder = Encoder(n_layers,\n",
        "                               FFN_units,\n",
        "                               n_heads,\n",
        "                               dropout_rate,\n",
        "                               vocab_size_enc,\n",
        "                               d_model)\n",
        "        # Build the decoder\n",
        "        self.decoder = Decoder(n_layers,\n",
        "                               FFN_units,\n",
        "                               n_heads,\n",
        "                               dropout_rate,\n",
        "                               vocab_size_dec,\n",
        "                               d_model)\n",
        "        # build the linear transformation and softmax function\n",
        "        self.last_linear = layers.Dense(units=vocab_size_dec, name=\"lin_ouput\")\n",
        "    \n",
        "    def create_padding_mask(self, seq): #seq: (batch_size, seq_length)\n",
        "        # Create the mask for padding\n",
        "        mask = tf.cast(tf.math.equal(seq, 0), tf.float32)\n",
        "        return mask[:, tf.newaxis, tf.newaxis, :]\n",
        "\n",
        "    def create_look_ahead_mask(self, seq):\n",
        "        # Create the mask for the causal attention\n",
        "        seq_len = tf.shape(seq)[1]\n",
        "        look_ahead_mask = 1 - tf.linalg.band_part(tf.ones((seq_len, seq_len)), -1, 0)\n",
        "        return look_ahead_mask\n",
        "    \n",
        "    def call(self, enc_inputs, dec_inputs, training):\n",
        "        # Create the padding mask for the encoder\n",
        "        enc_mask = self.create_padding_mask(enc_inputs)\n",
        "        # Create the mask for the causal attention\n",
        "        dec_mask_1 = tf.maximum(\n",
        "            self.create_padding_mask(dec_inputs),\n",
        "            self.create_look_ahead_mask(dec_inputs)\n",
        "        )\n",
        "        # Create the mask for the encoder-decoder attention\n",
        "        dec_mask_2 = self.create_padding_mask(enc_inputs)\n",
        "        # Call the encoder\n",
        "        enc_outputs = self.encoder(enc_inputs, enc_mask, training)\n",
        "        # Call the decoder\n",
        "        dec_outputs = self.decoder(dec_inputs,\n",
        "                                   enc_outputs,\n",
        "                                   dec_mask_1,\n",
        "                                   dec_mask_2,\n",
        "                                   training)\n",
        "        # Call the Linear and Softmax functions\n",
        "        outputs = self.last_linear(dec_outputs)\n",
        "        \n",
        "        return outputs"
      ]
    },
    {
      "cell_type": "markdown",
      "metadata": {
        "id": "4XdnNmy_uEfE"
      },
      "source": [
        "It is worth mentioning that we create 3 masks, each of which will allow us:\n",
        "- *Encoder mask*: It is a padding mask to discard the pad tokens from the attention calculation.\n",
        "- *Decoder mask 1*: this mask is a union of the padding mask and the look ahead mask which will help the causal attention to discard the tokens \"in the future\". We take the maximum value between the padding mask and the look ahead one.\n",
        "- *Decoder mask 2*: it is the padding mask and is applied in the encoder-decoder attention layer.\n",
        "\n",
        "As you can see then we call the encoder, the decoder and the final linear-softmax layer to get the predicted output from our Transformer model."
      ]
    },
    {
      "cell_type": "markdown",
      "metadata": {
        "id": "-c-LRThUPrso"
      },
      "source": [
        "# Training the Transformer model\n",
        "Now that we have described in detail the components in the paper we are ready to implement them and train a transformer model on a NMT problem. It is a toy problem for educational purposes.\n",
        "\n",
        "We need to create a custom loss function to mask the padding tokens and we define the Adam optimizer described in the paper, with beta1 = 0.9, beta2 = 0.98 and epsilon= 10e-9. And then we create a scheduler to vary the learning rate over the training process according to:\n",
        "\n",
        "$lrate = d_{model}^{-0.5}*min(step\\_num^{-0.5}, step\\_num*warmup\\_steps^{-1.5})$\n"
      ]
    },
    {
      "cell_type": "code",
      "execution_count": null,
      "metadata": {
        "id": "AM6zndzkAxC0"
      },
      "outputs": [],
      "source": [
        "def loss_function(target, pred):\n",
        "    mask = tf.math.logical_not(tf.math.equal(target, 0))\n",
        "    loss_ = loss_object(target, pred)\n",
        "    \n",
        "    mask = tf.cast(mask, dtype=loss_.dtype)\n",
        "    loss_ *= mask\n",
        "    \n",
        "    return tf.reduce_mean(loss_)\n",
        "\n",
        "class CustomSchedule(tf.keras.optimizers.schedules.LearningRateSchedule):\n",
        "    \n",
        "    def __init__(self, d_model, warmup_steps=4000):\n",
        "        super(CustomSchedule, self).__init__()\n",
        "        \n",
        "        self.d_model = tf.cast(d_model, tf.float32)\n",
        "        self.warmup_steps = warmup_steps\n",
        "    \n",
        "    def __call__(self, step):\n",
        "        arg1 = tf.math.rsqrt(step)\n",
        "        arg2 = step * (self.warmup_steps**-1.5)\n",
        "        \n",
        "        return tf.math.rsqrt(self.d_model) * tf.math.minimum(arg1, arg2)\n"
      ]
    },
    {
      "cell_type": "markdown",
      "metadata": {
        "id": "xGarg37Fo36b"
      },
      "source": [
        "And that's all, we have all the necessary elements to train our model using an usual loop for sequence-to-sequence tasks:\n",
        "- For every iteration on the batch generator that produce batch size inputs and outputs\n",
        "- Get the input sequence from 0 to length-1 and the actual outputs from 1 to length, the next word expected at every sequence step.\n",
        "- Call the transformer to get the predictions\n",
        "- Calculate the loss function between the real outputs and the predictions\n",
        "- Apply the gradients to update the weights in the model\n",
        "- Calculate the mean loss and the accuracy for the batch data\n",
        "- Show some results and save the model in every epoch"
      ]
    },
    {
      "cell_type": "code",
      "execution_count": null,
      "metadata": {
        "id": "lhFK5kUx602K"
      },
      "outputs": [],
      "source": [
        "def main_train(dataset, transformer, n_epochs, print_every=50):\n",
        "  ''' Entrene el modelo de transformador para n_epochs usando el conjunto de datos del generador de datos'''\n",
        "  losses = []\n",
        "  accuracies = []\n",
        "  # En cada epoca\n",
        "  for epoch in range(n_epochs):\n",
        "    print(\"Época de inicio {}\".format(epoch+1))\n",
        "    start = time.time()\n",
        "    # Restablecer los cálculos de pérdida y precisión\n",
        "    train_loss.reset_states()\n",
        "    train_accuracy.reset_states()\n",
        "    # Obtenga un lote de entradas y objetivos\n",
        "    for (batch, (enc_inputs, targets)) in enumerate(dataset):\n",
        "        # Set the decoder inputs\n",
        "        dec_inputs = targets[:, :-1]\n",
        "        # Establecer las salidas de destino, desplazadas a la derecha\n",
        "        dec_outputs_real = targets[:, 1:]\n",
        "        with tf.GradientTape() as tape:\n",
        "           # Llame al transformador y obtenga la salida prevista\n",
        "            predictions = transformer(enc_inputs, dec_inputs, True)\n",
        "           # Calcular la pérdida\n",
        "            loss = loss_function(dec_outputs_real, predictions)\n",
        "       # Actualiza los pesos y el optimizador\n",
        "        gradients = tape.gradient(loss, transformer.trainable_variables)\n",
        "        optimizer.apply_gradients(zip(gradients, transformer.trainable_variables))\n",
        "        # Guardar y almacenar las métricas\n",
        "        train_loss(loss)\n",
        "        train_accuracy(dec_outputs_real, predictions)\n",
        "        \n",
        "        if batch % print_every == 0:\n",
        "            losses.append(train_loss.result())\n",
        "            accuracies.append(train_accuracy.result())\n",
        "            print(\"Época {} Lote {} Pérdida {:.4f} Exactitud {:.4f}\".format(\n",
        "                epoch+1, batch, train_loss.result(), train_accuracy.result()))\n",
        "            \n",
        "  # Verifique el modelo en cada época    \n",
        "    ckpt_save_path = ckpt_manager.save()\n",
        "    print(\"Guardando el punto de control para la época {} en {}\".format(epoch+1,\n",
        "                                                        ckpt_save_path))\n",
        "    print(\"Tiempo para 1 época: {} segundos\\n\".format(time.time() - start))\n",
        "\n",
        "  return losses, accuracies"
      ]
    },
    {
      "cell_type": "markdown",
      "metadata": {
        "id": "hLqH4ksXJHPu"
      },
      "source": [
        "Setting the hyperparameters and parameters of the model and training process:"
      ]
    },
    {
      "cell_type": "code",
      "execution_count": null,
      "metadata": {
        "id": "QGmrQfakTKUV"
      },
      "outputs": [],
      "source": [
        "# Set hyperparamters for the model\n",
        "D_MODEL = 512 # 512\n",
        "N_LAYERS = 4 # 6\n",
        "FFN_UNITS = 512 # 2048\n",
        "N_HEADS = 8 # 8\n",
        "DROPOUT_RATE = 0.1 # 0.1\n"
      ]
    },
    {
      "cell_type": "markdown",
      "metadata": {
        "id": "0hCk9aUDqaMo"
      },
      "source": [
        "Now we define and create all the elements to train the model and evaluate it."
      ]
    },
    {
      "cell_type": "code",
      "execution_count": null,
      "metadata": {
        "id": "qiOdqQ5qPs8z"
      },
      "outputs": [],
      "source": [
        "# Clean the session\n",
        "tf.keras.backend.clear_session()\n",
        "# Create the Transformer model\n",
        "transformer = Transformer(vocab_size_enc=num_words_inputs,\n",
        "                          vocab_size_dec=num_words_output,\n",
        "                          d_model=D_MODEL,\n",
        "                          n_layers=N_LAYERS,\n",
        "                          FFN_units=FFN_UNITS,\n",
        "                          n_heads=N_HEADS,\n",
        "                          dropout_rate=DROPOUT_RATE)\n",
        "\n",
        "# Define a categorical cross entropy loss\n",
        "loss_object = tf.keras.losses.SparseCategoricalCrossentropy(from_logits=True,\n",
        "                                                            reduction=\"none\")\n",
        "# Define a metric to store the mean loss of every epoch\n",
        "train_loss = tf.keras.metrics.Mean(name=\"train_loss\")\n",
        "# Define a matric to save the accuracy in every epoch\n",
        "train_accuracy = tf.keras.metrics.SparseCategoricalAccuracy(name=\"train_accuracy\")\n",
        "# Create the scheduler for learning rate decay\n",
        "learning_rate = CustomSchedule(D_MODEL)\n",
        "step = 1000.0\n",
        "lr = learning_rate(step)\n",
        "# Create the Adam optimizer\n",
        "optimizer = tf.keras.optimizers.Adam(lr,\n",
        "                                     beta_1=0.9,\n",
        "                                     beta_2=0.98,\n",
        "                                     epsilon=1e-9)\n",
        "        "
      ]
    },
    {
      "cell_type": "markdown",
      "metadata": {
        "id": "wTgnNJbprCdT"
      },
      "source": [
        "It is very useful to checkpoint and save our model during training. Training can take a lot of time and we can restore the model for future training or use."
      ]
    },
    {
      "cell_type": "code",
      "execution_count": null,
      "metadata": {
        "id": "Nb_32PIU5Zkh",
        "colab": {
          "base_uri": "https://localhost:8080/"
        },
        "outputId": "15fb4d96-4237-4e15-f7a5-b1d719fafc07"
      },
      "outputs": [
        {
          "output_type": "stream",
          "name": "stdout",
          "text": [
            "Último punto de control restaurado.\n"
          ]
        }
      ],
      "source": [
        "#Create the Checkpoint \n",
        "ckpt = tf.train.Checkpoint(transformer=transformer,\n",
        "                           optimizer=optimizer)\n",
        "\n",
        "ckpt_manager = tf.train.CheckpointManager(ckpt, checkpoint_path, max_to_keep=5)\n",
        "\n",
        "if ckpt_manager.latest_checkpoint:\n",
        "    ckpt.restore(ckpt_manager.latest_checkpoint)\n",
        "    print(\"Último punto de control restaurado.\")\n",
        "    #return transformer.train_loss.result().numpy(), transformer.train_accuracy.result().numpy(), transformer.val_loss.result().numpy(), transformer.val_accuracy.result().numpy()\n"
      ]
    },
    {
      "cell_type": "code",
      "execution_count": null,
      "metadata": {
        "colab": {
          "base_uri": "https://localhost:8080/"
        },
        "id": "ND0NAyshNWHD",
        "outputId": "f23488da-543e-4259-8a0c-7e6c5d4ae6ca"
      },
      "outputs": [
        {
          "output_type": "stream",
          "name": "stdout",
          "text": [
            "Época de inicio 1\n"
          ]
        },
        {
          "output_type": "stream",
          "name": "stderr",
          "text": [
            "WARNING:tensorflow:5 out of the last 5 calls to <function _BaseOptimizer._update_step_xla at 0x7f92ae18f700> triggered tf.function retracing. Tracing is expensive and the excessive number of tracings could be due to (1) creating @tf.function repeatedly in a loop, (2) passing tensors with different shapes, (3) passing Python objects instead of tensors. For (1), please define your @tf.function outside of the loop. For (2), @tf.function has reduce_retracing=True option that can avoid unnecessary retracing. For (3), please refer to https://www.tensorflow.org/guide/function#controlling_retracing and https://www.tensorflow.org/api_docs/python/tf/function for  more details.\n",
            "WARNING:tensorflow:6 out of the last 6 calls to <function _BaseOptimizer._update_step_xla at 0x7f92ae18f700> triggered tf.function retracing. Tracing is expensive and the excessive number of tracings could be due to (1) creating @tf.function repeatedly in a loop, (2) passing tensors with different shapes, (3) passing Python objects instead of tensors. For (1), please define your @tf.function outside of the loop. For (2), @tf.function has reduce_retracing=True option that can avoid unnecessary retracing. For (3), please refer to https://www.tensorflow.org/guide/function#controlling_retracing and https://www.tensorflow.org/api_docs/python/tf/function for  more details.\n"
          ]
        },
        {
          "output_type": "stream",
          "name": "stdout",
          "text": [
            "Época 1 Lote 0 Pérdida 0.2447 Exactitud 0.6753\n",
            "Época 1 Lote 100 Pérdida 0.2601 Exactitud 0.6759\n",
            "Época 1 Lote 200 Pérdida 0.2670 Exactitud 0.6759\n",
            "Época 1 Lote 300 Pérdida 0.2737 Exactitud 0.6747\n",
            "Época 1 Lote 400 Pérdida 0.2781 Exactitud 0.6736\n",
            "Época 1 Lote 500 Pérdida 0.2814 Exactitud 0.6735\n",
            "Época 1 Lote 600 Pérdida 0.2844 Exactitud 0.6730\n",
            "Época 1 Lote 700 Pérdida 0.2877 Exactitud 0.6723\n",
            "Época 1 Lote 800 Pérdida 0.2911 Exactitud 0.6718\n",
            "Época 1 Lote 900 Pérdida 0.2944 Exactitud 0.6711\n",
            "Época 1 Lote 1000 Pérdida 0.2975 Exactitud 0.6705\n",
            "Época 1 Lote 1100 Pérdida 0.3000 Exactitud 0.6702\n",
            "Época 1 Lote 1200 Pérdida 0.3025 Exactitud 0.6699\n",
            "Época 1 Lote 1300 Pérdida 0.3051 Exactitud 0.6693\n",
            "Época 1 Lote 1400 Pérdida 0.3074 Exactitud 0.6688\n",
            "Época 1 Lote 1500 Pérdida 0.3094 Exactitud 0.6684\n",
            "Época 1 Lote 1600 Pérdida 0.3119 Exactitud 0.6679\n",
            "Época 1 Lote 1700 Pérdida 0.3143 Exactitud 0.6675\n",
            "Época 1 Lote 1800 Pérdida 0.3161 Exactitud 0.6671\n",
            "Época 1 Lote 1900 Pérdida 0.3184 Exactitud 0.6669\n",
            "Época 1 Lote 2000 Pérdida 0.3207 Exactitud 0.6665\n",
            "Época 1 Lote 2100 Pérdida 0.3231 Exactitud 0.6661\n",
            "Época 1 Lote 2200 Pérdida 0.3248 Exactitud 0.6656\n",
            "Época 1 Lote 2300 Pérdida 0.3263 Exactitud 0.6654\n",
            "Guardando el punto de control para la época 1 en /content/drive/My Drive/Tesis/Traductor/Transformer_NMT/Projects/Transformer_NMT/ckpt/ckpt-31\n",
            "Tiempo para 1 época: 1251.7001175880432 segundos\n",
            "\n"
          ]
        }
      ],
      "source": [
        "# Train the model\n",
        "losses, accuracies = main_train(dataset, transformer, EPOCHS, 100)"
      ]
    },
    {
      "cell_type": "markdown",
      "metadata": {
        "id": "nmzyRwDrRGdq"
      },
      "source": [
        "## Show some results from training"
      ]
    },
    {
      "cell_type": "code",
      "execution_count": null,
      "metadata": {
        "id": "hGB3Lv7hthlL",
        "colab": {
          "base_uri": "https://localhost:8080/",
          "height": 336
        },
        "outputId": "8e9333f2-40dd-4c30-f974-dc3a8f434e32"
      },
      "outputs": [
        {
          "output_type": "display_data",
          "data": {
            "text/plain": [
              "<Figure size 1080x360 with 2 Axes>"
            ],
            "image/png": "[encoded data removed]"
          },
          "metadata": {
            "needs_background": "light"
          }
        }
      ],
      "source": [
        "fig, (ax1, ax2) = plt.subplots(1, 2, figsize=(15,5))\n",
        "# plot some data\n",
        "ax1.plot(losses, label='Pérdida')\n",
        "#plt.plot(results.history['val_loss'], label='val_loss')\n",
        "ax1.set_title('Pérdida de entrenamiento')\n",
        "ax1.legend()\n",
        "# accuracies\n",
        "ax2.plot(accuracies, label='Precisión')\n",
        "#plt.plot(results.history['val_accuracy_fn'], label='val_acc')\n",
        "ax2.set_title('Precisión de entrenamiento')\n",
        "ax2.legend()\n",
        "plt.show()"
      ]
    },
    {
      "cell_type": "markdown",
      "metadata": {
        "id": "wnfIU53_0oQi"
      },
      "source": [
        "# Make predictions\n",
        "\n",
        "We have seen the scores obtained after training but what we are interested in making predictions and see how the model works with new sentences. The predict function will input a tokenize sentence to the model and return the predicted new sentence, in our example, a translation from english to spanish. \n",
        "- Tokenize the input sentence to a sequence of tokens\n",
        "- Set the initial output sequence to the SOS token\n",
        "- Until we reach the max length or the eos token is returned by the model\n",
        "- Get the next word predicted. The model returns the logits, remember that the softmax function is applied in the loss calculation.\n",
        "- Get the index in the vocabulary of the word with the highest probability\n",
        "- Concat the next word predicted to the output sequence"
      ]
    },
    {
      "cell_type": "code",
      "execution_count": null,
      "metadata": {
        "id": "a6iJ7tPC-pk-"
      },
      "outputs": [],
      "source": [
        "def predict(inp_sentence, tokenizer_in, tokenizer_out, target_max_len):\n",
        "    # Tokenize the input sequence using the tokenizer_in\n",
        "    inp_sentence = sos_token_input + tokenizer_in.encode(inp_sentence) + eos_token_input\n",
        "    enc_input = tf.expand_dims(inp_sentence, axis=0)\n",
        "\n",
        "    # Set the initial output sentence to sos\n",
        "    out_sentence = sos_token_output\n",
        "    # Reshape the output\n",
        "    output = tf.expand_dims(out_sentence, axis=0)\n",
        "\n",
        "    # For max target len tokens\n",
        "    for _ in range(target_max_len):\n",
        "        # Call the transformer and get the logits \n",
        "        predictions = transformer(enc_input, output, False) #(1, seq_length, VOCAB_SIZE_ES)\n",
        "        # Extract the logists of the next word\n",
        "        prediction = predictions[:, -1:, :]\n",
        "        # The highest probability is taken\n",
        "        predicted_id = tf.cast(tf.argmax(prediction, axis=-1), tf.int32)\n",
        "        # Check if it is the eos token\n",
        "        if predicted_id == eos_token_output:\n",
        "            return tf.squeeze(output, axis=0)\n",
        "        # Concat the predicted word to the output sequence\n",
        "        output = tf.concat([output, predicted_id], axis=-1)\n",
        "\n",
        "    return tf.squeeze(output, axis=0)"
      ]
    },
    {
      "cell_type": "markdown",
      "metadata": {
        "id": "ECKNvSxUqoow"
      },
      "source": [
        "And finally our last function receives a sentence in english, calls the transformer to translate it to spanish and shows the result"
      ]
    },
    {
      "cell_type": "code",
      "execution_count": null,
      "metadata": {
        "id": "s6VeFKrE6Kdx"
      },
      "outputs": [],
      "source": [
        "def translate(sentence):\n",
        "    # Get the predicted sequence for the input sentence\n",
        "    output = predict(sentence, tokenizer_inputs, tokenizer_outputs, MAX_LENGTH).numpy()\n",
        "    # Transform the sequence of tokens to a sentence\n",
        "    predicted_sentence = tokenizer_outputs.decode(\n",
        "        [i for i in output if i < sos_token_output]\n",
        "    )\n",
        "\n",
        "    return predicted_sentence"
      ]
    },
    {
      "cell_type": "markdown",
      "metadata": {
        "id": "EDtGeTvXokpb"
      },
      "source": [
        "First, we explore the predictions on sentences of our training dataset:"
      ]
    },
    {
      "cell_type": "code",
      "execution_count": null,
      "metadata": {
        "id": "5rSkyBdTcY-5",
        "colab": {
          "base_uri": "https://localhost:8080/"
        },
        "outputId": "e0257e9f-4ef4-491f-c3ec-5ee2a7cdf314"
      },
      "outputs": [
        {
          "output_type": "stream",
          "name": "stdout",
          "text": [
            "Input sentence: Deberías esperar por lo que te quieras.\n",
            "Output sentence: You should wait for what you want. \n"
          ]
        }
      ],
      "source": [
        "#Show some translations\n",
        "sentence = \"Deberías esperar por lo que te quieras.\"\n",
        "print(\"Input sentence: {}\".format(sentence))\n",
        "predicted_sentence = translate(sentence)\n",
        "print(\"Output sentence: {}\".format(predicted_sentence))"
      ]
    },
    {
      "cell_type": "code",
      "execution_count": null,
      "metadata": {
        "colab": {
          "base_uri": "https://localhost:8080/"
        },
        "id": "AFTOO58Ncjiu",
        "outputId": "667eddc9-fc3d-4f62-e0b1-e953eb378548"
      },
      "outputs": [
        {
          "output_type": "stream",
          "name": "stdout",
          "text": [
            "Input sentence: No tenemos el pelo de dinero.\n",
            "Output sentence: We have no money-up hair. \n"
          ]
        }
      ],
      "source": [
        "#Show some translations\n",
        "sentence = \"No tenemos el pelo de dinero.\"\n",
        "print(\"Input sentence: {}\".format(sentence))\n",
        "predicted_sentence = translate(sentence)\n",
        "print(\"Output sentence: {}\".format(predicted_sentence))"
      ]
    },
    {
      "cell_type": "markdown",
      "metadata": {
        "id": "tqIIbaB6ovZo"
      },
      "source": [
        "Next, let's predict some new sentences on diferent topics:"
      ]
    },
    {
      "cell_type": "code",
      "execution_count": null,
      "metadata": {
        "colab": {
          "base_uri": "https://localhost:8080/"
        },
        "id": "BupFjJlgDvCA",
        "outputId": "f3b1fe26-9171-4743-96e5-dd94eb7dc15a"
      },
      "outputs": [
        {
          "output_type": "stream",
          "name": "stdout",
          "text": [
            "Input sentence: Debería haber conocido mejor\n",
            "Output sentence: I should've met better. \n"
          ]
        }
      ],
      "source": [
        "#Show some translations\n",
        "sentence = \"Debería haber conocido mejor\"\n",
        "print(\"Input sentence: {}\".format(sentence))\n",
        "predicted_sentence = translate(sentence)\n",
        "print(\"Output sentence: {}\".format(predicted_sentence))"
      ]
    },
    {
      "cell_type": "code",
      "execution_count": null,
      "metadata": {
        "colab": {
          "base_uri": "https://localhost:8080/"
        },
        "id": "ZdoWKbCP7Czs",
        "outputId": "c5c3b339-b029-4784-fbba-b51b7dc5a9ec"
      },
      "outputs": [
        {
          "output_type": "stream",
          "name": "stdout",
          "text": [
            "Input sentence: ¿Un equivalente Java de fflush de C?\n",
            "Output sentence: A Java equivalent of C's fflush ?\n"
          ]
        }
      ],
      "source": [
        "#Show some translations\n",
        "sentence = \"¿Un equivalente Java de fflush de C?\"\n",
        "print(\"Input sentence: {}\".format(sentence))\n",
        "predicted_sentence = translate(sentence)\n",
        "print(\"Output sentence: {}\".format(predicted_sentence))"
      ]
    },
    {
      "cell_type": "markdown",
      "source": [
        "Comparador\n"
      ],
      "metadata": {
        "id": "Pa_Nb6pfCDtF"
      }
    },
    {
      "cell_type": "code",
      "execution_count": null,
      "metadata": {
        "colab": {
          "base_uri": "https://localhost:8080/"
        },
        "id": "UGjBEb5WFMGt",
        "outputId": "26fd0a0b-2b95-4c18-f6d7-395af1d34506"
      },
      "outputs": [
        {
          "output_type": "stream",
          "name": "stdout",
          "text": [
            "Input sentence: Este es un curso interesante sobre Procesamiento del Lenguaje Natural\n",
            "Output sentence: This is an interesting course about Naural language processing\n"
          ]
        }
      ],
      "source": [
        "#Show some translations\n",
        "sentence = \"Este es un curso interesante sobre Procesamiento del Lenguaje Natural\"\n",
        "print(\"Input sentence: {}\".format(sentence))\n",
        "predicted_sentence = translate(sentence)\n",
        "print(\"Output sentence: {}\".format(predicted_sentence))"
      ]
    },
    {
      "cell_type": "code",
      "metadata": {
        "id": "KJd3zFAFKA1p"
      },
      "source": [
        "!pip install flair --use-deprecated=legacy-resolver"
      ],
      "execution_count": null,
      "outputs": []
    },
    {
      "cell_type": "code",
      "source": [
        "pip install --upgrade pandas"
      ],
      "metadata": {
        "colab": {
          "base_uri": "https://localhost:8080/"
        },
        "id": "CcbmSEn3twPi",
        "outputId": "a6a1e70e-915b-4627-cb8a-2901bb2588aa"
      },
      "execution_count": null,
      "outputs": [
        {
          "output_type": "stream",
          "name": "stdout",
          "text": [
            "Looking in indexes: https://pypi.org/simple, https://us-python.pkg.dev/colab-wheels/public/simple/\n",
            "Requirement already satisfied: pandas in /usr/local/lib/python3.9/dist-packages (1.5.3)\n",
            "Requirement already satisfied: numpy>=1.20.3 in /usr/local/lib/python3.9/dist-packages (from pandas) (1.22.4)\n",
            "Requirement already satisfied: pytz>=2020.1 in /usr/local/lib/python3.9/dist-packages (from pandas) (2022.7.1)\n",
            "Requirement already satisfied: python-dateutil>=2.8.1 in /usr/local/lib/python3.9/dist-packages (from pandas) (2.8.2)\n",
            "Requirement already satisfied: six>=1.5 in /usr/local/lib/python3.9/dist-packages (from python-dateutil>=2.8.1->pandas) (1.15.0)\n"
          ]
        }
      ]
    },
    {
      "cell_type": "markdown",
      "source": [
        "Importacion de librerias Modelo Bert y Glove"
      ],
      "metadata": {
        "id": "OxpSi-4Djj7i"
      }
    },
    {
      "cell_type": "code",
      "source": [
        "import numpy as np\n",
        "import pandas as pd\n",
        "from flair.embeddings import WordEmbeddings, TransformerWordEmbeddings\n",
        "from flair.data import Sentence\n",
        "from scipy.spatial import distance\n",
        "from scipy.spatial.distance import cosine, euclidean\n",
        "\n",
        "# Load Glove Embeddings\n",
        "\n",
        "glove_embedding = WordEmbeddings('glove')\n",
        "\n",
        "# Load BERT Embeddings\n",
        "bert_embedding = TransformerWordEmbeddings('bert-base-multilingual-cased')"
      ],
      "metadata": {
        "id": "8BNxPHNrYESU"
      },
      "execution_count": null,
      "outputs": []
    },
    {
      "cell_type": "markdown",
      "source": [
        "Definicion de ruta para dataset"
      ],
      "metadata": {
        "id": "tZz5RfZHjtda"
      }
    },
    {
      "cell_type": "code",
      "source": [
        "# Global parameters\n",
        "root_folder_compare='/content/drive/My Drive/Tesis/Traductor/datasets/eng_spa_translations/'\n",
        "DataSet_compare = \"df_so.txt\"\n",
        "data=-0.21 \n",
        "# Variable for data directory\n",
        "DATA_PATH_COMPARE = os.path.abspath(os.path.join(root_folder_compare, DataSet_compare))\n",
        "print(\"URl Data Set {}\".format(DATA_PATH_COMPARE))"
      ],
      "metadata": {
        "colab": {
          "base_uri": "https://localhost:8080/"
        },
        "id": "JfHnqMqdYRqU",
        "outputId": "7168215a-c62e-405b-d335-a1e60d5f6166"
      },
      "execution_count": null,
      "outputs": [
        {
          "output_type": "stream",
          "name": "stdout",
          "text": [
            "URl Data Set /content/drive/My Drive/Tesis/Traductor/datasets/eng_spa_translations/df_so.txt\n"
          ]
        }
      ]
    },
    {
      "cell_type": "markdown",
      "source": [
        "Carga de data set"
      ],
      "metadata": {
        "id": "DuAaJAuokEcZ"
      }
    },
    {
      "cell_type": "code",
      "source": [
        "# Load questions from CSV file\n",
        "questions_df = pd.read_csv(DATA_PATH_COMPARE, sep=\"\\t\", header=None, encoding='ISO-8859-1')\n",
        "print(\"data: {}\".format(questions_df))"
      ],
      "metadata": {
        "id": "3f4uZWcVa7hG",
        "colab": {
          "base_uri": "https://localhost:8080/"
        },
        "outputId": "3af9f64b-2c44-4256-ac3c-d2c4e42a0d8b"
      },
      "execution_count": null,
      "outputs": [
        {
          "output_type": "stream",
          "name": "stdout",
          "text": [
            "data:                                                       0\n",
            "0                                 Class views in Django\n",
            "1                           How to use XPath in Python?\n",
            "2           SQL Server: Get data for only the past year\n",
            "3                        How to sort a list of strings?\n",
            "4         Using Django time/date widgets in custom form\n",
            "...                                                 ...\n",
            "4875  Create a django password in a simple python sc...\n",
            "4876  How can I pass unique id fields from a Model t...\n",
            "4877  How Django and JavaScript work together for ru...\n",
            "4878  Performing a SQL query to get cocktails by ing...\n",
            "4879  How to display the user Avatar on all template...\n",
            "\n",
            "[4880 rows x 1 columns]\n"
          ]
        }
      ]
    },
    {
      "cell_type": "markdown",
      "source": [
        "Utilizacion del Modelo Transformer"
      ],
      "metadata": {
        "id": "KDrk9S_lkH7S"
      }
    },
    {
      "cell_type": "code",
      "source": [
        "user_input_str = \"Captura de parámetros de URL en request.GET\"\n",
        "print(\"Input sentence: {}\".format(user_input_str))\n",
        "\n",
        "# Traducir la entrada del usuario\n",
        "predicted_sentence = translate(user_input_str)\n",
        "print(\"Output sentence: {}\".format(predicted_sentence))\n",
        "\n",
        "# Convierta la oración predicha en objeto de oración para incrustaciones\n",
        "user_input = Sentence(predicted_sentence)\n",
        "print(\"Output sentence para comparador: {}\".format(user_input))\n",
        "glove_similarities = []\n",
        "bert_similarities = []"
      ],
      "metadata": {
        "colab": {
          "base_uri": "https://localhost:8080/"
        },
        "id": "kVsqjadRdHkW",
        "outputId": "c1cb555e-58f4-425f-bc1b-1615a122b9a3"
      },
      "execution_count": null,
      "outputs": [
        {
          "output_type": "stream",
          "name": "stdout",
          "text": [
            "Input sentence: Captura de parámetros de URL en request.GET\n",
            "Output sentence: Capturing URL parameters in requestUpper-GET request\n",
            "Output sentence para comparador: Sentence[6]: \"Capturing URL parameters in requestUpper-GET request\"\n"
          ]
        }
      ]
    },
    {
      "cell_type": "markdown",
      "source": [
        "Implementacion de decriminacion del umbral "
      ],
      "metadata": {
        "id": "4fgIJdX9J9CM"
      }
    },
    {
      "cell_type": "code",
      "source": [
        "max_len = max(len(Sentence(row[0])) for i, row in questions_df.iterrows())\n",
        "umbral = 0.80  # Umbral para considerar que una pregunta es similar a la entrada del usuario\n",
        "data=-0.21 \n",
        "# variables tipo contador\n",
        "filaProcesBert= 0\n",
        "filaGlove=0 \n",
        "filaProcesBertCero= 0\n",
        "filaGloveCero=0 \n",
        "fila = 1\n",
        "\n",
        "results_df = pd.DataFrame(columns=['user','csv_question', 'Similar','probability'])\n",
        "results_df.drop(results_df.index, inplace=True)\n",
        "Data_Glove = pd.DataFrame(columns=['user','csv_question', 'Similar','probability'])\n",
        "Data_Glove.drop(Data_Glove.index, inplace=True)\n",
        "\n",
        "# Repasar cada pregunta en el archivo CSV y compararla con la entrada del usuario\n",
        "for i, row in questions_df.iterrows():\n",
        "    fila += 1\n",
        "    question = row[0]\n",
        "\n",
        "    # Crear objetos Sentence para la entrada del usuario y cada pregunta en el archivo CSV\n",
        "    csv_question = Sentence(question)\n",
        "\n",
        "    # Obtener las listas de embeddings para la entrada del usuario y la pregunta en el archivo CSV\n",
        "    glove_embedding.embed(user_input)\n",
        "    glove_embedding.embed(csv_question)\n",
        "    # Obtener las listas de embeddings GloVe como arrays de numpy\n",
        "    user_input_array = np.array([token.embedding.cpu().numpy() for token in user_input])\n",
        "    csv_question_array = np.array([token.embedding.cpu().numpy() for token in csv_question])\n",
        "\n",
        "    # Padding para igualar la longitud de las secuencias\n",
        "    user_input_padded = np.zeros((max_len, user_input_array.shape[1]))\n",
        "    user_input_padded[:user_input_array.shape[0], :] = user_input_array\n",
        "    csv_question_padded = np.zeros((max_len, csv_question_array.shape[1]))\n",
        "    csv_question_padded[:csv_question_array.shape[0], :] = csv_question_array\n",
        "\n",
        "    # Calcular la distancia del coseno entre las dos secuencias usando embeddings GloVe\n",
        "    glove_dst = data +cosine(user_input_padded.flatten()[:csv_question_padded.size], csv_question_padded.flatten())\n",
        "     \n",
        "    #glove_sim_percent = glove_dst * 100  # Convertir la similitud en porcentaje\n",
        "\n",
        "    #glove_euclidean = euclidean(user_input_padded.flatten()[:csv_question_padded.size], csv_question_padded.flatten())\n",
        "\n",
        "    # Obtener las listas de embeddings BERT para la entrada del usuario y la pregunta en el archivo CSV\n",
        "    bert_embedding.embed(user_input)\n",
        "    bert_embedding.embed(csv_question)\n",
        "\n",
        "    # Obtener las listas de embeddings BERT como arrays de numpy\n",
        "    user_input_array = np.array([token.embedding.cpu().numpy() for token in user_input])\n",
        "    csv_question_array = np.array([token.embedding.cpu().numpy() for token in csv_question])\n",
        "\n",
        "    # Padding para igualar la longitud de las secuencias\n",
        "    user_input_padded = np.zeros((max_len, user_input_array.shape[1]))\n",
        "    user_input_padded[:user_input_array.shape[0], :] = user_input_array\n",
        "    csv_question_padded = np.zeros((max_len, csv_question_array.shape[1]))\n",
        "    csv_question_padded[:csv_question_array.shape[0], :] = csv_question_array\n",
        "\n",
        "    # Calcular la distancia coseno entre las dos secuencias usando embeddings BERT\n",
        "    #bert_dst = distance.euclidean(user_input_padded.flatten(), csv_question_padded.flatten())\n",
        "    cos_sim =distance.cosine(user_input_padded.flatten(), csv_question_padded.flatten())\n",
        "    #cos_sim_percent = cos_sim * 100\n",
        "\n",
        "    # Etiquetar la pregunta con 1 si la similitud coseno es mayor que el umbral, o con 0 si es menor o igual\n",
        "    if cos_sim > umbral:\n",
        "        is_similar = 1\n",
        "        #print(\"Fila: {}\".format(i))\n",
        "        #print(f\"Bert euclidean distance: {cos_sim:.4f}\")\n",
        "        filaProcesBert += 1\n",
        "        #print(is_similar)\n",
        "    else:\n",
        "        is_similar = 0\n",
        "        filaProcesBertCero += 1\n",
        "    #print(f\"Glove euclidean distance: {glove_dst:.4f}\")\n",
        "    if glove_dst > umbral:\n",
        "        is_similar_Glove = 1\n",
        "        # print(\"Fila: {}\".format(i))\n",
        "        # print(f\"Glove euclidean distance: {glove_dst:.4f}\")\n",
        "        filaGlove += 1\n",
        "        #print(is_similar)\n",
        "    else:\n",
        "        is_similar_Glove = 0\n",
        "        filaGloveCero += 1\n",
        "\n",
        "    #results_df = results_df.append({'user':1 ,'csv_question': i+1, 'Similar':int(is_similar)}, ignore_index=True)   \n",
        "    results_df = pd.concat([results_df, pd.DataFrame({'user':1 ,'csv_question': i+1, 'Similar':int(is_similar)}, index=[0])], ignore_index=True)\n",
        "\n",
        "    #Data_Glove = Data_Glove.append({'user':1 ,'csv_question': i+1, 'Similar': int(is_similar_Glove)}, ignore_index=True) \n",
        "    Data_Glove = pd.concat([Data_Glove, pd.DataFrame({'user':1 ,'csv_question': i+1, 'Similar':int(is_similar)}, index=[0])], ignore_index=True)\n",
        "\n",
        "# Imprimir el nuevo dataframe con los resultados\n",
        "print(\"=\"*30)\n",
        "print(\"Resultdos de Bert\")\n",
        "print(results_df)\n",
        "print(\"Cantidad de preguntas positivas con Bert: {}\".format(filaProcesBert))\n",
        "print(\"Cantidad de preguntas negativas con Bert: {}\".format(filaProcesBertCero))\n",
        "\n",
        "print(\"=\"*30)\n",
        "print(\"Resultdos de Glove\")\n",
        "print(Data_Glove)\n",
        "print(\"Cantidad de preguntas  positivas con Glove: {}\".format(filaGlove))\n",
        "print(\"Cantidad de preguntas  negativas con Glove: {}\".format(filaGloveCero))\n"
      ],
      "metadata": {
        "colab": {
          "base_uri": "https://localhost:8080/"
        },
        "id": "QgmdFDfmVkAs",
        "outputId": "36d8dbf0-65a5-4348-faa7-f91a1cfe8718"
      },
      "execution_count": null,
      "outputs": [
        {
          "output_type": "stream",
          "name": "stderr",
          "text": [
            "/usr/local/lib/python3.9/dist-packages/scipy/spatial/distance.py:622: RuntimeWarning: invalid value encountered in double_scalars\n",
            "  dist = 1.0 - uv / np.sqrt(uu * vv)\n"
          ]
        },
        {
          "output_type": "stream",
          "name": "stdout",
          "text": [
            "==============================\n",
            "Resultdos de Bert\n",
            "     user csv_question Similar probability\n",
            "0       1            1       0         NaN\n",
            "1       1            2       0         NaN\n",
            "2       1            3       0         NaN\n",
            "3       1            4       0         NaN\n",
            "4       1            5       0         NaN\n",
            "...   ...          ...     ...         ...\n",
            "4875    1         4876       0         NaN\n",
            "4876    1         4877       1         NaN\n",
            "4877    1         4878       0         NaN\n",
            "4878    1         4879       0         NaN\n",
            "4879    1         4880       0         NaN\n",
            "\n",
            "[4880 rows x 4 columns]\n",
            "Cantidad de preguntas positivas con Bert: 623\n",
            "Cantidad de preguntas negativas con Bert: 4257\n",
            "==============================\n",
            "Resultdos de Glove\n",
            "     user csv_question Similar probability\n",
            "0       1            1       0         NaN\n",
            "1       1            2       0         NaN\n",
            "2       1            3       0         NaN\n",
            "3       1            4       0         NaN\n",
            "4       1            5       0         NaN\n",
            "...   ...          ...     ...         ...\n",
            "4875    1         4876       0         NaN\n",
            "4876    1         4877       1         NaN\n",
            "4877    1         4878       0         NaN\n",
            "4878    1         4879       0         NaN\n",
            "4879    1         4880       0         NaN\n",
            "\n",
            "[4880 rows x 4 columns]\n",
            "Cantidad de preguntas  positivas con Glove: 765\n",
            "Cantidad de preguntas  negativas con Glove: 4115\n"
          ]
        }
      ]
    },
    {
      "cell_type": "markdown",
      "source": [
        "Aplicacion de la curva de Roc Grafica modelo Glove"
      ],
      "metadata": {
        "id": "6Qf-7SIzKMxc"
      }
    },
    {
      "cell_type": "code",
      "source": [
        "import pandas as pd\n",
        "import matplotlib.pyplot as plt\n",
        "from sklearn.model_selection import train_test_split\n",
        "from sklearn.linear_model import LogisticRegression\n",
        "from sklearn.metrics import roc_curve, auc\n",
        "from numpy import arange, argmax\n",
        "\n",
        "# Extraer características y etiquetas\n",
        "X = Data_Glove['csv_question'].to_numpy()\n",
        "y = Data_Glove['Similar'].to_numpy()\n",
        "\n",
        "y = y.astype('int')  # convertir a tipo de datos entero\n",
        "y = pd.Series(y).fillna(0).values  # reemplazar valores nulos con ceros\n",
        "\n",
        "# Dividir en conjuntos de entrenamiento y prueba\n",
        "trainX, testX, trainy, testy = train_test_split(X, y, test_size=0.5, random_state=2, stratify=y)\n",
        "\n",
        "# Entrenar modelo de regresión logística\n",
        "model = LogisticRegression(solver='lbfgs')\n",
        "model.fit(trainX.reshape(-1, 1), trainy)\n",
        "\n",
        "# Predecir probabilidades en el conjunto de prueba\n",
        "yhat = model.predict_proba(testX.reshape(-1, 1))\n",
        "# Mantener las probabilidades positivas\n",
        "probs = yhat[:, 1]\n",
        "\n",
        "# Calcular curva ROC\n",
        "fpr, tpr, thresholds = roc_curve(testy, probs)\n",
        "roc_auc = auc(fpr, tpr)\n",
        "\n",
        "# Imprimir los resultados\n",
        "print('AUC=%.5f' % roc_auc)\n",
        "\n",
        "# Graficar curva ROC\n",
        "plt.plot(fpr, tpr, color='darkorange', lw=2, label='ROC curve (AUC = %0.5f)' % roc_auc)\n",
        "plt.plot([0, 1], [0, 1], color='navy', lw=2, linestyle='--')\n",
        "plt.xlim([0.0, 1.0])\n",
        "plt.ylim([0.0, 1.05])\n",
        "plt.xlabel('False Positive Rate')\n",
        "plt.ylabel('True Positive Rate')\n",
        "plt.title('Receiver operating characteristic')\n",
        "plt.legend(loc=\"lower right\")\n",
        "plt.show()\n",
        "\n",
        "# Encontrar el mejor umbral\n",
        "ix = argmax(tpr - fpr)\n",
        "threshold = thresholds[ix]\n",
        "\n",
        "# Imprimir el mejor umbral\n",
        "print('Threshold=%.3f ' % (thresholds[ix]))\n",
        "\n",
        "# print('Mejor umbral=%f' % (threshold))"
      ],
      "metadata": {
        "colab": {
          "base_uri": "https://localhost:8080/",
          "height": 435
        },
        "id": "q79zcenEclpz",
        "outputId": "cb5a608c-c2e3-4089-cd3c-5964bbba04f5"
      },
      "execution_count": null,
      "outputs": [
        {
          "output_type": "stream",
          "name": "stdout",
          "text": [
            "AUC=0.55183\n"
          ]
        },
        {
          "output_type": "display_data",
          "data": {
            "text/plain": [
              "<Figure size 576x396 with 1 Axes>"
            ],
            "image/png": "[encoded data removed]"
          },
          "metadata": {}
        },
        {
          "output_type": "stream",
          "name": "stdout",
          "text": [
            "Threshold=0.159 \n"
          ]
        }
      ]
    },
    {
      "cell_type": "markdown",
      "source": [
        "Aplicacion de la curva de Roc Grafica modelo Bert"
      ],
      "metadata": {
        "id": "ImRsog75KeTk"
      }
    },
    {
      "cell_type": "code",
      "source": [
        "import pandas as pd\n",
        "import matplotlib.pyplot as plt\n",
        "from sklearn.model_selection import train_test_split\n",
        "from sklearn.linear_model import LogisticRegression\n",
        "from sklearn.metrics import roc_curve, auc\n",
        "\n",
        "# Extraer características y etiquetas\n",
        "X = results_df['csv_question'].to_numpy()\n",
        "y = results_df['Similar'].to_numpy()\n",
        "\n",
        "y = y.astype('int')  # convertir a tipo de datos entero\n",
        "y = pd.Series(y).fillna(0).values  # reemplazar valores nulos con ceros\n",
        "\n",
        "# Dividir en conjuntos de entrenamiento y prueba\n",
        "trainX, testX, trainy, testy = train_test_split(X, y, test_size=0.5, random_state=2, stratify=y)\n",
        "\n",
        "# Entrenar modelo de regresión logística\n",
        "model = LogisticRegression(solver='lbfgs')\n",
        "model.fit(trainX.reshape(-1, 1), trainy)\n",
        "\n",
        "# Predecir probabilidades en el conjunto de prueba\n",
        "yhat = model.predict_proba(testX.reshape(-1, 1))\n",
        "# Mantener las probabilidades positivas\n",
        "probs = yhat[:, 1]\n",
        "\n",
        "# Calcular curva ROC\n",
        "fpr, tpr, thresholds = roc_curve(testy, probs)\n",
        "roc_auc = auc(fpr, tpr)\n",
        "\n",
        "# Imprimir los resultados\n",
        "print('AUC=%.5f' % roc_auc)\n",
        "\n",
        "# Graficar curva ROC\n",
        "plt.plot(fpr, tpr, color='darkorange', lw=2, label='ROC curve (AUC = %0.5f)' % roc_auc)\n",
        "plt.plot([0, 1], [0, 1], color='navy', lw=2, linestyle='--')\n",
        "plt.xlim([0.0, 1.0])\n",
        "plt.ylim([0.0, 1.05])\n",
        "plt.xlabel('False Positive Rate')\n",
        "plt.ylabel('True Positive Rate')\n",
        "plt.title('Receiver operating characteristic')\n",
        "plt.legend(loc=\"lower right\")\n",
        "plt.show()\n",
        "\n",
        "# Encontrar el mejor umbral\n",
        "ix = argmax(tpr - fpr)\n",
        "threshold = thresholds[ix]\n",
        "\n",
        "# Imprimir el mejor umbral\n",
        "print('Threshold=%.3f, F-Score=%.5f' % (thresholds[ix], scores[ix]))\n",
        "\n",
        "# print('Mejor umbral=%f' % (threshold))"
      ],
      "metadata": {
        "colab": {
          "base_uri": "https://localhost:8080/",
          "height": 435
        },
        "id": "38xIudJS-4e5",
        "outputId": "62864db7-a442-402a-c2e8-2c90f07f6cd6"
      },
      "execution_count": null,
      "outputs": [
        {
          "output_type": "stream",
          "name": "stdout",
          "text": [
            "AUC=0.55183\n"
          ]
        },
        {
          "output_type": "display_data",
          "data": {
            "text/plain": [
              "<Figure size 576x396 with 1 Axes>"
            ],
            "image/png": "[encoded data removed]"
          },
          "metadata": {}
        },
        {
          "output_type": "stream",
          "name": "stdout",
          "text": [
            "Threshold=0.159, F-Score=0.67925\n"
          ]
        }
      ]
    },
    {
      "cell_type": "markdown",
      "source": [
        "Resultados de preguntas marcada como 1 o 0 "
      ],
      "metadata": {
        "id": "uWA3d18uKnN0"
      }
    },
    {
      "cell_type": "code",
      "source": [
        "preguntas_totales = fila\n",
        "preguntas_duplicadas = filaGlove\n",
        "preguntas_bert= filaProcesBert\n",
        "\n",
        "\n",
        "# Crear la figura y los ejes\n",
        "fig, ax = plt.subplots()\n",
        "\n",
        "# Crear las barras\n",
        "rects1 = ax.bar(0, preguntas_totales, color='b', label='Preguntas totales')\n",
        "rects2 = ax.bar(1, preguntas_duplicadas, color='g', label='Similitud en Glove')\n",
        "rects3 = ax.bar(2, preguntas_bert, color='r', label='Similitud en Bert')\n",
        "\n",
        "# Agregar etiquetas a las barras\n",
        "ax.annotate(preguntas_totales, xy=(0, preguntas_totales), ha='center', va='bottom')\n",
        "ax.annotate(preguntas_duplicadas, xy=(1, preguntas_duplicadas), ha='center', va='bottom')\n",
        "ax.annotate(preguntas_bert, xy=(2, preguntas_bert), ha='center', va='bottom')\n",
        "\n",
        "\n",
        "# Agregar etiquetas a los ejes\n",
        "ax.set_ylabel('Cantidad de preguntas')\n",
        "ax.set_xticks([0, 1, 2])\n",
        "ax.set_xticklabels(['', '', ''])\n",
        "\n",
        "# Agregar título y leyenda\n",
        "ax.set_title('Resultados de comparativa')\n",
        "ax.legend()\n",
        "\n",
        "# Mostrar el gráfico\n",
        "plt.show()"
      ],
      "metadata": {
        "colab": {
          "base_uri": "https://localhost:8080/",
          "height": 359
        },
        "id": "L-3sp3-WfCZM",
        "outputId": "55ba221f-ba83-4a4d-b19d-6070f9835b5c"
      },
      "execution_count": null,
      "outputs": [
        {
          "output_type": "display_data",
          "data": {
            "text/plain": [
              "<Figure size 576x396 with 1 Axes>"
            ],
            "image/png": "[encoded data removed]"
          },
          "metadata": {}
        }
      ]
    },
    {
      "cell_type": "markdown",
      "source": [
        "Definicion de  funcion para determinar threshold y la probabilidades"
      ],
      "metadata": {
        "id": "jWb60M18Ktts"
      }
    },
    {
      "cell_type": "code",
      "source": [
        "import pandas as pd\n",
        "import numpy as np\n",
        "from sklearn.model_selection import train_test_split\n",
        "from sklearn.linear_model import LogisticRegression\n",
        "from sklearn.metrics import roc_curve, auc, confusion_matrix, precision_score, accuracy_score, recall_score, f1_score\n",
        "\n",
        "def apply_threshold(probs, threshold):\n",
        "    return (probs >= threshold).astype(int)\n",
        "\n",
        "def get_threshold_auc(df):\n",
        "    # Extraer características y etiquetas\n",
        "    X = df['csv_question'].to_numpy()\n",
        "    y = df['Similar'].to_numpy()\n",
        "    y = y.astype('int')\n",
        "    y = pd.Series(y).fillna(0).values\n",
        "    \n",
        "    # Dividir en conjuntos de entrenamiento y prueba\n",
        "    trainX, testX, trainy, testy = train_test_split(X, y, test_size=0.5, random_state=2, stratify=y)\n",
        "\n",
        "    # Entrenar modelo de regresión logística\n",
        "    model = LogisticRegression(solver='lbfgs')\n",
        "    model.fit(trainX.reshape(-1, 1), trainy)\n",
        "\n",
        "    # Predecir probabilidades en todo el conjunto de datos\n",
        "    yhat = model.predict_proba(X.reshape(-1, 1))\n",
        "    probs = yhat[:, 1]\n",
        "\n",
        "    # Calcular curva ROC\n",
        "    fpr, tpr, thresholds = roc_curve(y, probs)\n",
        "    roc_auc = auc(fpr, tpr)\n",
        "\n",
        "    # Encontrar el mejor umbral\n",
        "    ix = np.argmax(tpr - fpr)\n",
        "    threshold = thresholds[ix]\n",
        "\n",
        "    # Aplicar el umbral a las probabilidades predichas\n",
        "    preds = apply_threshold(probs, threshold)\n",
        "\n",
        "    return threshold, preds\n"
      ],
      "metadata": {
        "id": "vLZ5ffWMfm1M"
      },
      "execution_count": null,
      "outputs": []
    },
    {
      "cell_type": "markdown",
      "source": [
        "Matrix de confusion Modelo Glove "
      ],
      "metadata": {
        "id": "ElZuqusoLG0s"
      }
    },
    {
      "cell_type": "code",
      "source": [
        "from sklearn.metrics import confusion_matrix, roc_auc_score, roc_curve, precision_score, accuracy_score, recall_score, f1_score\n",
        "import matplotlib.pyplot as plt\n",
        "\n",
        "# Obtener el umbral y las etiquetas predichas\n",
        "threshold, preds = get_threshold_auc(Data_Glove)\n",
        "print(preds)\n",
        "Data_Glove['Similar'].fillna(value=0, inplace=True)\n",
        "# Calcular matriz de confusión\n",
        "cm = confusion_matrix(Data_Glove['Similar'], preds)\n",
        "# print(cm)\n",
        "\n",
        "precision = precision_score(Data_Glove['Similar'], preds)\n",
        "accuracy = accuracy_score(Data_Glove['Similar'], preds)\n",
        "recall = recall_score(Data_Glove['Similar'], preds)\n",
        "f1 = f1_score(Data_Glove['Similar'], preds)\n",
        "\n",
        "# Imprimir los resultados\n",
        "print('AUC=%.5f' % roc_auc)\n",
        "print('Threshold=%.3f' % threshold)\n",
        "print('Precision=%.3f' % precision)\n",
        "print('Accuracy=%.3f' % accuracy)\n",
        "print('Recall=%.3f' % recall)\n",
        "print('F1 score=%.3f' % f1)\n",
        "\n",
        "# Graficar matriz de confusión\n",
        "plt.imshow(cm, cmap='Blues')\n",
        "plt.title('Matriz de confusión Glove')\n",
        "plt.colorbar()\n",
        "plt.xlabel('Predicciones')\n",
        "plt.ylabel('Valores reales')\n",
        "plt.xticks([0,1], ['0', '1'])\n",
        "plt.yticks([0,1], ['0', '1'])\n",
        "for i in range(2):\n",
        "    for j in range(2):\n",
        "        plt.text(j, i, str(cm[i][j]), ha='center', va='center', color='black', fontsize=20)\n",
        "plt.show()\n",
        "Data_Glove['probability'] = preds\n",
        "print(Data_Glove)"
      ],
      "metadata": {
        "id": "16uf4ntefER0"
      },
      "execution_count": null,
      "outputs": []
    },
    {
      "cell_type": "markdown",
      "source": [
        "Matrix de confusion Modelo Bert "
      ],
      "metadata": {
        "id": "SWGoPEKYLQRD"
      }
    },
    {
      "cell_type": "code",
      "source": [
        "from sklearn.metrics import confusion_matrix, roc_auc_score, roc_curve, precision_score, accuracy_score, recall_score, f1_score\n",
        "import matplotlib.pyplot as plt\n",
        "\n",
        "# Obtener el umbral y las etiquetas predichas\n",
        "threshold, preds = get_threshold_auc(results_df)\n",
        "\n",
        "# Calcular matriz de confusión\n",
        "cm = confusion_matrix(results_df['Similar'], preds)\n",
        "# print(cm)\n",
        "\n",
        "precision = precision_score(results_df['Similar'], preds)\n",
        "accuracy = accuracy_score(results_df['Similar'], preds)\n",
        "recall = recall_score(results_df['Similar'], preds)\n",
        "f1 = f1_score(results_df['Similar'], preds)\n",
        "\n",
        "# Imprimir los resultados\n",
        "print('AUC=%.5f' % roc_auc)\n",
        "print('Threshold=%.3f' % threshold)\n",
        "print('Precision=%.3f' % precision)\n",
        "print('Accuracy=%.3f' % accuracy)\n",
        "print('Recall=%.3f' % recall)\n",
        "print('F1 score=%.3f' % f1)\n",
        "\n",
        "# Graficar matriz de confusión\n",
        "plt.imshow(cm, cmap='Blues')\n",
        "plt.title('Matriz de confusión Bert')\n",
        "plt.colorbar()\n",
        "plt.xlabel('Predicciones')\n",
        "plt.ylabel('Valores reales')\n",
        "plt.xticks([0,1], ['0', '1'])\n",
        "plt.yticks([0,1], ['0', '1'])\n",
        "for i in range(2):\n",
        "    for j in range(2):\n",
        "        plt.text(j, i, str(cm[i][j]), ha='center', va='center', color='black', fontsize=20)\n",
        "plt.show()\n",
        "\n",
        "results_df['probability'] = preds\n",
        "print(results_df)\n"
      ],
      "metadata": {
        "colab": {
          "base_uri": "https://localhost:8080/",
          "height": 747
        },
        "id": "0ZgISit4fRBE",
        "outputId": "437c9995-52b3-425b-806b-f56eacbbcd25"
      },
      "execution_count": null,
      "outputs": [
        {
          "output_type": "stream",
          "name": "stdout",
          "text": [
            "AUC=0.55183\n",
            "Threshold=0.137\n",
            "Precision=0.159\n",
            "Accuracy=0.618\n",
            "Recall=0.462\n",
            "F1 score=0.236\n"
          ]
        },
        {
          "output_type": "display_data",
          "data": {
            "text/plain": [
              "<Figure size 576x396 with 2 Axes>"
            ],
            "image/png": "[encoded data removed]"
          },
          "metadata": {}
        },
        {
          "output_type": "stream",
          "name": "stdout",
          "text": [
            "     user csv_question  Similar  probability\n",
            "0       1            1        0            1\n",
            "1       1            2        0            1\n",
            "2       1            3        0            1\n",
            "3       1            4        0            1\n",
            "4       1            5        0            1\n",
            "...   ...          ...      ...          ...\n",
            "4875    1         4876        0            0\n",
            "4876    1         4877        1            0\n",
            "4877    1         4878        0            0\n",
            "4878    1         4879        0            0\n",
            "4879    1         4880        0            0\n",
            "\n",
            "[4880 rows x 4 columns]\n"
          ]
        }
      ]
    }
  ],
  "metadata": {
    "accelerator": "GPU",
    "colab": {
      "machine_shape": "hm",
      "provenance": []
    },
    "gpuClass": "standard",
    "kernelspec": {
      "display_name": "Python 3",
      "name": "python3"
    }
  },
  "nbformat": 4,
  "nbformat_minor": 0
}